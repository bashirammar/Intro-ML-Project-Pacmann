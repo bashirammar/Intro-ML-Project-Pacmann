{
 "cells": [
  {
   "cell_type": "code",
   "execution_count": 37,
   "metadata": {},
   "outputs": [],
   "source": [
    "import pandas as pd\n",
    "import numpy as np\n",
    "\n",
    "import seaborn as sns\n",
    "# Visualizations Libraries\n",
    "import matplotlib.pyplot as plt\n",
    "import seaborn as sns\n",
    "import plotly.express as px\n"
   ]
  },
  {
   "cell_type": "code",
   "execution_count": 38,
   "metadata": {},
   "outputs": [],
   "source": [
    "water_df = pd.read_csv('water_potability.csv')"
   ]
  },
  {
   "cell_type": "code",
   "execution_count": 39,
   "metadata": {},
   "outputs": [
    {
     "data": {
      "text/html": [
       "<div>\n",
       "<style scoped>\n",
       "    .dataframe tbody tr th:only-of-type {\n",
       "        vertical-align: middle;\n",
       "    }\n",
       "\n",
       "    .dataframe tbody tr th {\n",
       "        vertical-align: top;\n",
       "    }\n",
       "\n",
       "    .dataframe thead th {\n",
       "        text-align: right;\n",
       "    }\n",
       "</style>\n",
       "<table border=\"1\" class=\"dataframe\">\n",
       "  <thead>\n",
       "    <tr style=\"text-align: right;\">\n",
       "      <th></th>\n",
       "      <th>ph</th>\n",
       "      <th>Hardness</th>\n",
       "      <th>Solids</th>\n",
       "      <th>Chloramines</th>\n",
       "      <th>Sulfate</th>\n",
       "      <th>Conductivity</th>\n",
       "      <th>Organic_carbon</th>\n",
       "      <th>Trihalomethanes</th>\n",
       "      <th>Turbidity</th>\n",
       "      <th>Potability</th>\n",
       "    </tr>\n",
       "  </thead>\n",
       "  <tbody>\n",
       "    <tr>\n",
       "      <th>0</th>\n",
       "      <td>NaN</td>\n",
       "      <td>204.890455</td>\n",
       "      <td>20791.318981</td>\n",
       "      <td>7.300212</td>\n",
       "      <td>368.516441</td>\n",
       "      <td>564.308654</td>\n",
       "      <td>10.379783</td>\n",
       "      <td>86.990970</td>\n",
       "      <td>2.963135</td>\n",
       "      <td>0</td>\n",
       "    </tr>\n",
       "    <tr>\n",
       "      <th>1</th>\n",
       "      <td>3.716080</td>\n",
       "      <td>129.422921</td>\n",
       "      <td>18630.057858</td>\n",
       "      <td>6.635246</td>\n",
       "      <td>NaN</td>\n",
       "      <td>592.885359</td>\n",
       "      <td>15.180013</td>\n",
       "      <td>56.329076</td>\n",
       "      <td>4.500656</td>\n",
       "      <td>0</td>\n",
       "    </tr>\n",
       "    <tr>\n",
       "      <th>2</th>\n",
       "      <td>8.099124</td>\n",
       "      <td>224.236259</td>\n",
       "      <td>19909.541732</td>\n",
       "      <td>9.275884</td>\n",
       "      <td>NaN</td>\n",
       "      <td>418.606213</td>\n",
       "      <td>16.868637</td>\n",
       "      <td>66.420093</td>\n",
       "      <td>3.055934</td>\n",
       "      <td>0</td>\n",
       "    </tr>\n",
       "    <tr>\n",
       "      <th>3</th>\n",
       "      <td>8.316766</td>\n",
       "      <td>214.373394</td>\n",
       "      <td>22018.417441</td>\n",
       "      <td>8.059332</td>\n",
       "      <td>356.886136</td>\n",
       "      <td>363.266516</td>\n",
       "      <td>18.436524</td>\n",
       "      <td>100.341674</td>\n",
       "      <td>4.628771</td>\n",
       "      <td>0</td>\n",
       "    </tr>\n",
       "    <tr>\n",
       "      <th>4</th>\n",
       "      <td>9.092223</td>\n",
       "      <td>181.101509</td>\n",
       "      <td>17978.986339</td>\n",
       "      <td>6.546600</td>\n",
       "      <td>310.135738</td>\n",
       "      <td>398.410813</td>\n",
       "      <td>11.558279</td>\n",
       "      <td>31.997993</td>\n",
       "      <td>4.075075</td>\n",
       "      <td>0</td>\n",
       "    </tr>\n",
       "    <tr>\n",
       "      <th>...</th>\n",
       "      <td>...</td>\n",
       "      <td>...</td>\n",
       "      <td>...</td>\n",
       "      <td>...</td>\n",
       "      <td>...</td>\n",
       "      <td>...</td>\n",
       "      <td>...</td>\n",
       "      <td>...</td>\n",
       "      <td>...</td>\n",
       "      <td>...</td>\n",
       "    </tr>\n",
       "    <tr>\n",
       "      <th>3271</th>\n",
       "      <td>4.668102</td>\n",
       "      <td>193.681735</td>\n",
       "      <td>47580.991603</td>\n",
       "      <td>7.166639</td>\n",
       "      <td>359.948574</td>\n",
       "      <td>526.424171</td>\n",
       "      <td>13.894419</td>\n",
       "      <td>66.687695</td>\n",
       "      <td>4.435821</td>\n",
       "      <td>1</td>\n",
       "    </tr>\n",
       "    <tr>\n",
       "      <th>3272</th>\n",
       "      <td>7.808856</td>\n",
       "      <td>193.553212</td>\n",
       "      <td>17329.802160</td>\n",
       "      <td>8.061362</td>\n",
       "      <td>NaN</td>\n",
       "      <td>392.449580</td>\n",
       "      <td>19.903225</td>\n",
       "      <td>NaN</td>\n",
       "      <td>2.798243</td>\n",
       "      <td>1</td>\n",
       "    </tr>\n",
       "    <tr>\n",
       "      <th>3273</th>\n",
       "      <td>9.419510</td>\n",
       "      <td>175.762646</td>\n",
       "      <td>33155.578218</td>\n",
       "      <td>7.350233</td>\n",
       "      <td>NaN</td>\n",
       "      <td>432.044783</td>\n",
       "      <td>11.039070</td>\n",
       "      <td>69.845400</td>\n",
       "      <td>3.298875</td>\n",
       "      <td>1</td>\n",
       "    </tr>\n",
       "    <tr>\n",
       "      <th>3274</th>\n",
       "      <td>5.126763</td>\n",
       "      <td>230.603758</td>\n",
       "      <td>11983.869376</td>\n",
       "      <td>6.303357</td>\n",
       "      <td>NaN</td>\n",
       "      <td>402.883113</td>\n",
       "      <td>11.168946</td>\n",
       "      <td>77.488213</td>\n",
       "      <td>4.708658</td>\n",
       "      <td>1</td>\n",
       "    </tr>\n",
       "    <tr>\n",
       "      <th>3275</th>\n",
       "      <td>7.874671</td>\n",
       "      <td>195.102299</td>\n",
       "      <td>17404.177061</td>\n",
       "      <td>7.509306</td>\n",
       "      <td>NaN</td>\n",
       "      <td>327.459760</td>\n",
       "      <td>16.140368</td>\n",
       "      <td>78.698446</td>\n",
       "      <td>2.309149</td>\n",
       "      <td>1</td>\n",
       "    </tr>\n",
       "  </tbody>\n",
       "</table>\n",
       "<p>3276 rows × 10 columns</p>\n",
       "</div>"
      ],
      "text/plain": [
       "            ph    Hardness        Solids  Chloramines     Sulfate  \\\n",
       "0          NaN  204.890455  20791.318981     7.300212  368.516441   \n",
       "1     3.716080  129.422921  18630.057858     6.635246         NaN   \n",
       "2     8.099124  224.236259  19909.541732     9.275884         NaN   \n",
       "3     8.316766  214.373394  22018.417441     8.059332  356.886136   \n",
       "4     9.092223  181.101509  17978.986339     6.546600  310.135738   \n",
       "...        ...         ...           ...          ...         ...   \n",
       "3271  4.668102  193.681735  47580.991603     7.166639  359.948574   \n",
       "3272  7.808856  193.553212  17329.802160     8.061362         NaN   \n",
       "3273  9.419510  175.762646  33155.578218     7.350233         NaN   \n",
       "3274  5.126763  230.603758  11983.869376     6.303357         NaN   \n",
       "3275  7.874671  195.102299  17404.177061     7.509306         NaN   \n",
       "\n",
       "      Conductivity  Organic_carbon  Trihalomethanes  Turbidity  Potability  \n",
       "0       564.308654       10.379783        86.990970   2.963135           0  \n",
       "1       592.885359       15.180013        56.329076   4.500656           0  \n",
       "2       418.606213       16.868637        66.420093   3.055934           0  \n",
       "3       363.266516       18.436524       100.341674   4.628771           0  \n",
       "4       398.410813       11.558279        31.997993   4.075075           0  \n",
       "...            ...             ...              ...        ...         ...  \n",
       "3271    526.424171       13.894419        66.687695   4.435821           1  \n",
       "3272    392.449580       19.903225              NaN   2.798243           1  \n",
       "3273    432.044783       11.039070        69.845400   3.298875           1  \n",
       "3274    402.883113       11.168946        77.488213   4.708658           1  \n",
       "3275    327.459760       16.140368        78.698446   2.309149           1  \n",
       "\n",
       "[3276 rows x 10 columns]"
      ]
     },
     "execution_count": 39,
     "metadata": {},
     "output_type": "execute_result"
    }
   ],
   "source": [
    "water_df"
   ]
  },
  {
   "cell_type": "code",
   "execution_count": 40,
   "metadata": {},
   "outputs": [
    {
     "name": "stdout",
     "output_type": "stream",
     "text": [
      "<class 'pandas.core.frame.DataFrame'>\n",
      "RangeIndex: 3276 entries, 0 to 3275\n",
      "Data columns (total 10 columns):\n",
      " #   Column           Non-Null Count  Dtype  \n",
      "---  ------           --------------  -----  \n",
      " 0   ph               2785 non-null   float64\n",
      " 1   Hardness         3276 non-null   float64\n",
      " 2   Solids           3276 non-null   float64\n",
      " 3   Chloramines      3276 non-null   float64\n",
      " 4   Sulfate          2495 non-null   float64\n",
      " 5   Conductivity     3276 non-null   float64\n",
      " 6   Organic_carbon   3276 non-null   float64\n",
      " 7   Trihalomethanes  3114 non-null   float64\n",
      " 8   Turbidity        3276 non-null   float64\n",
      " 9   Potability       3276 non-null   int64  \n",
      "dtypes: float64(9), int64(1)\n",
      "memory usage: 256.1 KB\n"
     ]
    }
   ],
   "source": [
    "water_df.info()"
   ]
  },
  {
   "cell_type": "code",
   "execution_count": 41,
   "metadata": {},
   "outputs": [
    {
     "data": {
      "text/html": [
       "<div>\n",
       "<style scoped>\n",
       "    .dataframe tbody tr th:only-of-type {\n",
       "        vertical-align: middle;\n",
       "    }\n",
       "\n",
       "    .dataframe tbody tr th {\n",
       "        vertical-align: top;\n",
       "    }\n",
       "\n",
       "    .dataframe thead th {\n",
       "        text-align: right;\n",
       "    }\n",
       "</style>\n",
       "<table border=\"1\" class=\"dataframe\">\n",
       "  <thead>\n",
       "    <tr style=\"text-align: right;\">\n",
       "      <th></th>\n",
       "      <th>count</th>\n",
       "      <th>mean</th>\n",
       "      <th>std</th>\n",
       "      <th>min</th>\n",
       "      <th>25%</th>\n",
       "      <th>50%</th>\n",
       "      <th>75%</th>\n",
       "      <th>max</th>\n",
       "    </tr>\n",
       "  </thead>\n",
       "  <tbody>\n",
       "    <tr>\n",
       "      <th>ph</th>\n",
       "      <td>2785.0</td>\n",
       "      <td>7.080795</td>\n",
       "      <td>1.594320</td>\n",
       "      <td>0.000000</td>\n",
       "      <td>6.093092</td>\n",
       "      <td>7.036752</td>\n",
       "      <td>8.062066</td>\n",
       "      <td>14.000000</td>\n",
       "    </tr>\n",
       "    <tr>\n",
       "      <th>Hardness</th>\n",
       "      <td>3276.0</td>\n",
       "      <td>196.369496</td>\n",
       "      <td>32.879761</td>\n",
       "      <td>47.432000</td>\n",
       "      <td>176.850538</td>\n",
       "      <td>196.967627</td>\n",
       "      <td>216.667456</td>\n",
       "      <td>323.124000</td>\n",
       "    </tr>\n",
       "    <tr>\n",
       "      <th>Solids</th>\n",
       "      <td>3276.0</td>\n",
       "      <td>22014.092526</td>\n",
       "      <td>8768.570828</td>\n",
       "      <td>320.942611</td>\n",
       "      <td>15666.690297</td>\n",
       "      <td>20927.833607</td>\n",
       "      <td>27332.762127</td>\n",
       "      <td>61227.196008</td>\n",
       "    </tr>\n",
       "    <tr>\n",
       "      <th>Chloramines</th>\n",
       "      <td>3276.0</td>\n",
       "      <td>7.122277</td>\n",
       "      <td>1.583085</td>\n",
       "      <td>0.352000</td>\n",
       "      <td>6.127421</td>\n",
       "      <td>7.130299</td>\n",
       "      <td>8.114887</td>\n",
       "      <td>13.127000</td>\n",
       "    </tr>\n",
       "    <tr>\n",
       "      <th>Sulfate</th>\n",
       "      <td>2495.0</td>\n",
       "      <td>333.775777</td>\n",
       "      <td>41.416840</td>\n",
       "      <td>129.000000</td>\n",
       "      <td>307.699498</td>\n",
       "      <td>333.073546</td>\n",
       "      <td>359.950170</td>\n",
       "      <td>481.030642</td>\n",
       "    </tr>\n",
       "    <tr>\n",
       "      <th>Conductivity</th>\n",
       "      <td>3276.0</td>\n",
       "      <td>426.205111</td>\n",
       "      <td>80.824064</td>\n",
       "      <td>181.483754</td>\n",
       "      <td>365.734414</td>\n",
       "      <td>421.884968</td>\n",
       "      <td>481.792304</td>\n",
       "      <td>753.342620</td>\n",
       "    </tr>\n",
       "    <tr>\n",
       "      <th>Organic_carbon</th>\n",
       "      <td>3276.0</td>\n",
       "      <td>14.284970</td>\n",
       "      <td>3.308162</td>\n",
       "      <td>2.200000</td>\n",
       "      <td>12.065801</td>\n",
       "      <td>14.218338</td>\n",
       "      <td>16.557652</td>\n",
       "      <td>28.300000</td>\n",
       "    </tr>\n",
       "    <tr>\n",
       "      <th>Trihalomethanes</th>\n",
       "      <td>3114.0</td>\n",
       "      <td>66.396293</td>\n",
       "      <td>16.175008</td>\n",
       "      <td>0.738000</td>\n",
       "      <td>55.844536</td>\n",
       "      <td>66.622485</td>\n",
       "      <td>77.337473</td>\n",
       "      <td>124.000000</td>\n",
       "    </tr>\n",
       "    <tr>\n",
       "      <th>Turbidity</th>\n",
       "      <td>3276.0</td>\n",
       "      <td>3.966786</td>\n",
       "      <td>0.780382</td>\n",
       "      <td>1.450000</td>\n",
       "      <td>3.439711</td>\n",
       "      <td>3.955028</td>\n",
       "      <td>4.500320</td>\n",
       "      <td>6.739000</td>\n",
       "    </tr>\n",
       "    <tr>\n",
       "      <th>Potability</th>\n",
       "      <td>3276.0</td>\n",
       "      <td>0.390110</td>\n",
       "      <td>0.487849</td>\n",
       "      <td>0.000000</td>\n",
       "      <td>0.000000</td>\n",
       "      <td>0.000000</td>\n",
       "      <td>1.000000</td>\n",
       "      <td>1.000000</td>\n",
       "    </tr>\n",
       "  </tbody>\n",
       "</table>\n",
       "</div>"
      ],
      "text/plain": [
       "                  count          mean          std         min           25%  \\\n",
       "ph               2785.0      7.080795     1.594320    0.000000      6.093092   \n",
       "Hardness         3276.0    196.369496    32.879761   47.432000    176.850538   \n",
       "Solids           3276.0  22014.092526  8768.570828  320.942611  15666.690297   \n",
       "Chloramines      3276.0      7.122277     1.583085    0.352000      6.127421   \n",
       "Sulfate          2495.0    333.775777    41.416840  129.000000    307.699498   \n",
       "Conductivity     3276.0    426.205111    80.824064  181.483754    365.734414   \n",
       "Organic_carbon   3276.0     14.284970     3.308162    2.200000     12.065801   \n",
       "Trihalomethanes  3114.0     66.396293    16.175008    0.738000     55.844536   \n",
       "Turbidity        3276.0      3.966786     0.780382    1.450000      3.439711   \n",
       "Potability       3276.0      0.390110     0.487849    0.000000      0.000000   \n",
       "\n",
       "                          50%           75%           max  \n",
       "ph                   7.036752      8.062066     14.000000  \n",
       "Hardness           196.967627    216.667456    323.124000  \n",
       "Solids           20927.833607  27332.762127  61227.196008  \n",
       "Chloramines          7.130299      8.114887     13.127000  \n",
       "Sulfate            333.073546    359.950170    481.030642  \n",
       "Conductivity       421.884968    481.792304    753.342620  \n",
       "Organic_carbon      14.218338     16.557652     28.300000  \n",
       "Trihalomethanes     66.622485     77.337473    124.000000  \n",
       "Turbidity            3.955028      4.500320      6.739000  \n",
       "Potability           0.000000      1.000000      1.000000  "
      ]
     },
     "execution_count": 41,
     "metadata": {},
     "output_type": "execute_result"
    }
   ],
   "source": [
    "water_df.describe().T"
   ]
  },
  {
   "cell_type": "code",
   "execution_count": 42,
   "metadata": {},
   "outputs": [
    {
     "name": "stdout",
     "output_type": "stream",
     "text": [
      "Feature 'ph' has '2786' unique values\n",
      "Feature 'Hardness' has '3276' unique values\n",
      "Feature 'Solids' has '3276' unique values\n",
      "Feature 'Chloramines' has '3276' unique values\n",
      "Feature 'Sulfate' has '2496' unique values\n",
      "Feature 'Conductivity' has '3276' unique values\n",
      "Feature 'Organic_carbon' has '3276' unique values\n",
      "Feature 'Trihalomethanes' has '3115' unique values\n",
      "Feature 'Turbidity' has '3276' unique values\n",
      "Feature 'Potability' has '2' unique values\n"
     ]
    }
   ],
   "source": [
    "for column_name in water_df.columns:\n",
    "    unique_values = len(water_df[column_name].unique())\n",
    "    print(\"Feature '{column_name}' has '{unique_values}' unique values\".format(column_name = column_name,\n",
    "                                                                                         unique_values=unique_values))"
   ]
  },
  {
   "cell_type": "code",
   "execution_count": 43,
   "metadata": {},
   "outputs": [
    {
     "data": {
      "text/plain": [
       "0"
      ]
     },
     "execution_count": 43,
     "metadata": {},
     "output_type": "execute_result"
    }
   ],
   "source": [
    "duplicate_status = water_df.duplicated()\n",
    "duplicate_status.sum()"
   ]
  },
  {
   "cell_type": "code",
   "execution_count": 44,
   "metadata": {},
   "outputs": [
    {
     "data": {
      "image/png": "[encoded data removed]",
      "text/plain": [
       "<Figure size 360x72 with 1 Axes>"
      ]
     },
     "metadata": {
      "needs_background": "light"
     },
     "output_type": "display_data"
    },
    {
     "data": {
      "image/png": "[encoded data removed]",
      "text/plain": [
       "<Figure size 360x72 with 1 Axes>"
      ]
     },
     "metadata": {
      "needs_background": "light"
     },
     "output_type": "display_data"
    },
    {
     "data": {
      "image/png": "[encoded data removed]",
      "text/plain": [
       "<Figure size 360x72 with 1 Axes>"
      ]
     },
     "metadata": {
      "needs_background": "light"
     },
     "output_type": "display_data"
    }
   ],
   "source": [
    "colors_blue = [\"#132C33\", \"#264D58\", '#17869E', '#51C4D3', '#B4DBE9']\n",
    "colors_dark = [\"#1F1F1F\", \"#313131\", '#636363', '#AEAEAE', '#DADADA']\n",
    "colors_green = ['#01411C','#4B6F44','#4F7942','#74C365','#D0F0C0']\n",
    "sns.palplot(colors_blue)\n",
    "sns.palplot(colors_green)\n",
    "sns.palplot(colors_dark)"
   ]
  },
  {
   "cell_type": "code",
   "execution_count": 45,
   "metadata": {},
   "outputs": [
    {
     "data": {
      "text/plain": [
       "<AxesSubplot:>"
      ]
     },
     "execution_count": 45,
     "metadata": {},
     "output_type": "execute_result"
    },
    {
     "data": {
      "image/png": "[encoded data removed]",
      "text/plain": [
       "<Figure size 432x288 with 1 Axes>"
      ]
     },
     "metadata": {
      "needs_background": "light"
     },
     "output_type": "display_data"
    }
   ],
   "source": [
    "water_df['Potability'].value_counts().plot(kind='bar')"
   ]
  },
  {
   "cell_type": "code",
   "execution_count": 46,
   "metadata": {},
   "outputs": [
    {
     "data": {
      "application/vnd.plotly.v1+json": {
       "config": {
        "plotlyServerURL": "https://plot.ly"
       },
       "data": [
        {
         "domain": {
          "x": [
           0,
           1
          ],
          "y": [
           0,
           1
          ]
         },
         "hole": 0.4,
         "hovertemplate": "label=%{label}<br>No. Of Samples=%{value}<extra></extra>",
         "labels": [
          "Not Potable",
          "Potable"
         ],
         "legendgroup": "",
         "name": "",
         "opacity": 0.6,
         "showlegend": true,
         "textinfo": "percent+label",
         "textposition": "outside",
         "type": "pie",
         "values": [
          1998,
          1278
         ]
        }
       ],
       "layout": {
        "annotations": [
         {
          "font": {
           "family": "monospace",
           "size": 12
          },
          "opacity": 0.7,
          "showarrow": false,
          "text": "Need to resample the data<br> to get a balanced dataset<br> or use diffrent weight for each class",
          "x": 1.2,
          "y": 0.9
         },
         {
          "font": {
           "family": "monospace",
           "size": 14
          },
          "opacity": 0.7,
          "showarrow": false,
          "text": "Potability",
          "x": 0.5,
          "y": 0.5
         }
        ],
        "font": {
         "family": "monospace"
        },
        "hoverlabel": {
         "bgcolor": "white"
        },
        "legend": {
         "orientation": "h",
         "tracegroupgap": 0,
         "traceorder": "reversed",
         "x": 0.37,
         "y": -0.05
        },
        "margin": {
         "t": 60
        },
        "piecolorway": [
         "#74C365",
         "#51C4D3"
        ],
        "template": {
         "data": {
          "bar": [
           {
            "error_x": {
             "color": "#2a3f5f"
            },
            "error_y": {
             "color": "#2a3f5f"
            },
            "marker": {
             "line": {
              "color": "#E5ECF6",
              "width": 0.5
             }
            },
            "type": "bar"
           }
          ],
          "barpolar": [
           {
            "marker": {
             "line": {
              "color": "#E5ECF6",
              "width": 0.5
             }
            },
            "type": "barpolar"
           }
          ],
          "carpet": [
           {
            "aaxis": {
             "endlinecolor": "#2a3f5f",
             "gridcolor": "white",
             "linecolor": "white",
             "minorgridcolor": "white",
             "startlinecolor": "#2a3f5f"
            },
            "baxis": {
             "endlinecolor": "#2a3f5f",
             "gridcolor": "white",
             "linecolor": "white",
             "minorgridcolor": "white",
             "startlinecolor": "#2a3f5f"
            },
            "type": "carpet"
           }
          ],
          "choropleth": [
           {
            "colorbar": {
             "outlinewidth": 0,
             "ticks": ""
            },
            "type": "choropleth"
           }
          ],
          "contour": [
           {
            "colorbar": {
             "outlinewidth": 0,
             "ticks": ""
            },
            "colorscale": [
             [
              0,
              "#0d0887"
             ],
             [
              0.1111111111111111,
              "#46039f"
             ],
             [
              0.2222222222222222,
              "#7201a8"
             ],
             [
              0.3333333333333333,
              "#9c179e"
             ],
             [
              0.4444444444444444,
              "#bd3786"
             ],
             [
              0.5555555555555556,
              "#d8576b"
             ],
             [
              0.6666666666666666,
              "#ed7953"
             ],
             [
              0.7777777777777778,
              "#fb9f3a"
             ],
             [
              0.8888888888888888,
              "#fdca26"
             ],
             [
              1,
              "#f0f921"
             ]
            ],
            "type": "contour"
           }
          ],
          "contourcarpet": [
           {
            "colorbar": {
             "outlinewidth": 0,
             "ticks": ""
            },
            "type": "contourcarpet"
           }
          ],
          "heatmap": [
           {
            "colorbar": {
             "outlinewidth": 0,
             "ticks": ""
            },
            "colorscale": [
             [
              0,
              "#0d0887"
             ],
             [
              0.1111111111111111,
              "#46039f"
             ],
             [
              0.2222222222222222,
              "#7201a8"
             ],
             [
              0.3333333333333333,
              "#9c179e"
             ],
             [
              0.4444444444444444,
              "#bd3786"
             ],
             [
              0.5555555555555556,
              "#d8576b"
             ],
             [
              0.6666666666666666,
              "#ed7953"
             ],
             [
              0.7777777777777778,
              "#fb9f3a"
             ],
             [
              0.8888888888888888,
              "#fdca26"
             ],
             [
              1,
              "#f0f921"
             ]
            ],
            "type": "heatmap"
           }
          ],
          "heatmapgl": [
           {
            "colorbar": {
             "outlinewidth": 0,
             "ticks": ""
            },
            "colorscale": [
             [
              0,
              "#0d0887"
             ],
             [
              0.1111111111111111,
              "#46039f"
             ],
             [
              0.2222222222222222,
              "#7201a8"
             ],
             [
              0.3333333333333333,
              "#9c179e"
             ],
             [
              0.4444444444444444,
              "#bd3786"
             ],
             [
              0.5555555555555556,
              "#d8576b"
             ],
             [
              0.6666666666666666,
              "#ed7953"
             ],
             [
              0.7777777777777778,
              "#fb9f3a"
             ],
             [
              0.8888888888888888,
              "#fdca26"
             ],
             [
              1,
              "#f0f921"
             ]
            ],
            "type": "heatmapgl"
           }
          ],
          "histogram": [
           {
            "marker": {
             "colorbar": {
              "outlinewidth": 0,
              "ticks": ""
             }
            },
            "type": "histogram"
           }
          ],
          "histogram2d": [
           {
            "colorbar": {
             "outlinewidth": 0,
             "ticks": ""
            },
            "colorscale": [
             [
              0,
              "#0d0887"
             ],
             [
              0.1111111111111111,
              "#46039f"
             ],
             [
              0.2222222222222222,
              "#7201a8"
             ],
             [
              0.3333333333333333,
              "#9c179e"
             ],
             [
              0.4444444444444444,
              "#bd3786"
             ],
             [
              0.5555555555555556,
              "#d8576b"
             ],
             [
              0.6666666666666666,
              "#ed7953"
             ],
             [
              0.7777777777777778,
              "#fb9f3a"
             ],
             [
              0.8888888888888888,
              "#fdca26"
             ],
             [
              1,
              "#f0f921"
             ]
            ],
            "type": "histogram2d"
           }
          ],
          "histogram2dcontour": [
           {
            "colorbar": {
             "outlinewidth": 0,
             "ticks": ""
            },
            "colorscale": [
             [
              0,
              "#0d0887"
             ],
             [
              0.1111111111111111,
              "#46039f"
             ],
             [
              0.2222222222222222,
              "#7201a8"
             ],
             [
              0.3333333333333333,
              "#9c179e"
             ],
             [
              0.4444444444444444,
              "#bd3786"
             ],
             [
              0.5555555555555556,
              "#d8576b"
             ],
             [
              0.6666666666666666,
              "#ed7953"
             ],
             [
              0.7777777777777778,
              "#fb9f3a"
             ],
             [
              0.8888888888888888,
              "#fdca26"
             ],
             [
              1,
              "#f0f921"
             ]
            ],
            "type": "histogram2dcontour"
           }
          ],
          "mesh3d": [
           {
            "colorbar": {
             "outlinewidth": 0,
             "ticks": ""
            },
            "type": "mesh3d"
           }
          ],
          "parcoords": [
           {
            "line": {
             "colorbar": {
              "outlinewidth": 0,
              "ticks": ""
             }
            },
            "type": "parcoords"
           }
          ],
          "pie": [
           {
            "automargin": true,
            "type": "pie"
           }
          ],
          "scatter": [
           {
            "marker": {
             "colorbar": {
              "outlinewidth": 0,
              "ticks": ""
             }
            },
            "type": "scatter"
           }
          ],
          "scatter3d": [
           {
            "line": {
             "colorbar": {
              "outlinewidth": 0,
              "ticks": ""
             }
            },
            "marker": {
             "colorbar": {
              "outlinewidth": 0,
              "ticks": ""
             }
            },
            "type": "scatter3d"
           }
          ],
          "scattercarpet": [
           {
            "marker": {
             "colorbar": {
              "outlinewidth": 0,
              "ticks": ""
             }
            },
            "type": "scattercarpet"
           }
          ],
          "scattergeo": [
           {
            "marker": {
             "colorbar": {
              "outlinewidth": 0,
              "ticks": ""
             }
            },
            "type": "scattergeo"
           }
          ],
          "scattergl": [
           {
            "marker": {
             "colorbar": {
              "outlinewidth": 0,
              "ticks": ""
             }
            },
            "type": "scattergl"
           }
          ],
          "scattermapbox": [
           {
            "marker": {
             "colorbar": {
              "outlinewidth": 0,
              "ticks": ""
             }
            },
            "type": "scattermapbox"
           }
          ],
          "scatterpolar": [
           {
            "marker": {
             "colorbar": {
              "outlinewidth": 0,
              "ticks": ""
             }
            },
            "type": "scatterpolar"
           }
          ],
          "scatterpolargl": [
           {
            "marker": {
             "colorbar": {
              "outlinewidth": 0,
              "ticks": ""
             }
            },
            "type": "scatterpolargl"
           }
          ],
          "scatterternary": [
           {
            "marker": {
             "colorbar": {
              "outlinewidth": 0,
              "ticks": ""
             }
            },
            "type": "scatterternary"
           }
          ],
          "surface": [
           {
            "colorbar": {
             "outlinewidth": 0,
             "ticks": ""
            },
            "colorscale": [
             [
              0,
              "#0d0887"
             ],
             [
              0.1111111111111111,
              "#46039f"
             ],
             [
              0.2222222222222222,
              "#7201a8"
             ],
             [
              0.3333333333333333,
              "#9c179e"
             ],
             [
              0.4444444444444444,
              "#bd3786"
             ],
             [
              0.5555555555555556,
              "#d8576b"
             ],
             [
              0.6666666666666666,
              "#ed7953"
             ],
             [
              0.7777777777777778,
              "#fb9f3a"
             ],
             [
              0.8888888888888888,
              "#fdca26"
             ],
             [
              1,
              "#f0f921"
             ]
            ],
            "type": "surface"
           }
          ],
          "table": [
           {
            "cells": {
             "fill": {
              "color": "#EBF0F8"
             },
             "line": {
              "color": "white"
             }
            },
            "header": {
             "fill": {
              "color": "#C8D4E3"
             },
             "line": {
              "color": "white"
             }
            },
            "type": "table"
           }
          ]
         },
         "layout": {
          "annotationdefaults": {
           "arrowcolor": "#2a3f5f",
           "arrowhead": 0,
           "arrowwidth": 1
          },
          "autotypenumbers": "strict",
          "coloraxis": {
           "colorbar": {
            "outlinewidth": 0,
            "ticks": ""
           }
          },
          "colorscale": {
           "diverging": [
            [
             0,
             "#8e0152"
            ],
            [
             0.1,
             "#c51b7d"
            ],
            [
             0.2,
             "#de77ae"
            ],
            [
             0.3,
             "#f1b6da"
            ],
            [
             0.4,
             "#fde0ef"
            ],
            [
             0.5,
             "#f7f7f7"
            ],
            [
             0.6,
             "#e6f5d0"
            ],
            [
             0.7,
             "#b8e186"
            ],
            [
             0.8,
             "#7fbc41"
            ],
            [
             0.9,
             "#4d9221"
            ],
            [
             1,
             "#276419"
            ]
           ],
           "sequential": [
            [
             0,
             "#0d0887"
            ],
            [
             0.1111111111111111,
             "#46039f"
            ],
            [
             0.2222222222222222,
             "#7201a8"
            ],
            [
             0.3333333333333333,
             "#9c179e"
            ],
            [
             0.4444444444444444,
             "#bd3786"
            ],
            [
             0.5555555555555556,
             "#d8576b"
            ],
            [
             0.6666666666666666,
             "#ed7953"
            ],
            [
             0.7777777777777778,
             "#fb9f3a"
            ],
            [
             0.8888888888888888,
             "#fdca26"
            ],
            [
             1,
             "#f0f921"
            ]
           ],
           "sequentialminus": [
            [
             0,
             "#0d0887"
            ],
            [
             0.1111111111111111,
             "#46039f"
            ],
            [
             0.2222222222222222,
             "#7201a8"
            ],
            [
             0.3333333333333333,
             "#9c179e"
            ],
            [
             0.4444444444444444,
             "#bd3786"
            ],
            [
             0.5555555555555556,
             "#d8576b"
            ],
            [
             0.6666666666666666,
             "#ed7953"
            ],
            [
             0.7777777777777778,
             "#fb9f3a"
            ],
            [
             0.8888888888888888,
             "#fdca26"
            ],
            [
             1,
             "#f0f921"
            ]
           ]
          },
          "colorway": [
           "#636efa",
           "#EF553B",
           "#00cc96",
           "#ab63fa",
           "#FFA15A",
           "#19d3f3",
           "#FF6692",
           "#B6E880",
           "#FF97FF",
           "#FECB52"
          ],
          "font": {
           "color": "#2a3f5f"
          },
          "geo": {
           "bgcolor": "white",
           "lakecolor": "white",
           "landcolor": "#E5ECF6",
           "showlakes": true,
           "showland": true,
           "subunitcolor": "white"
          },
          "hoverlabel": {
           "align": "left"
          },
          "hovermode": "closest",
          "mapbox": {
           "style": "light"
          },
          "paper_bgcolor": "white",
          "plot_bgcolor": "#E5ECF6",
          "polar": {
           "angularaxis": {
            "gridcolor": "white",
            "linecolor": "white",
            "ticks": ""
           },
           "bgcolor": "#E5ECF6",
           "radialaxis": {
            "gridcolor": "white",
            "linecolor": "white",
            "ticks": ""
           }
          },
          "scene": {
           "xaxis": {
            "backgroundcolor": "#E5ECF6",
            "gridcolor": "white",
            "gridwidth": 2,
            "linecolor": "white",
            "showbackground": true,
            "ticks": "",
            "zerolinecolor": "white"
           },
           "yaxis": {
            "backgroundcolor": "#E5ECF6",
            "gridcolor": "white",
            "gridwidth": 2,
            "linecolor": "white",
            "showbackground": true,
            "ticks": "",
            "zerolinecolor": "white"
           },
           "zaxis": {
            "backgroundcolor": "#E5ECF6",
            "gridcolor": "white",
            "gridwidth": 2,
            "linecolor": "white",
            "showbackground": true,
            "ticks": "",
            "zerolinecolor": "white"
           }
          },
          "shapedefaults": {
           "line": {
            "color": "#2a3f5f"
           }
          },
          "ternary": {
           "aaxis": {
            "gridcolor": "white",
            "linecolor": "white",
            "ticks": ""
           },
           "baxis": {
            "gridcolor": "white",
            "linecolor": "white",
            "ticks": ""
           },
           "bgcolor": "#E5ECF6",
           "caxis": {
            "gridcolor": "white",
            "linecolor": "white",
            "ticks": ""
           }
          },
          "title": {
           "x": 0.05
          },
          "xaxis": {
           "automargin": true,
           "gridcolor": "white",
           "linecolor": "white",
           "ticks": "",
           "title": {
            "standoff": 15
           },
           "zerolinecolor": "white",
           "zerolinewidth": 2
          },
          "yaxis": {
           "automargin": true,
           "gridcolor": "white",
           "linecolor": "white",
           "ticks": "",
           "title": {
            "standoff": 15
           },
           "zerolinecolor": "white",
           "zerolinewidth": 2
          }
         }
        },
        "title": {
         "font": {
          "color": "#636363",
          "size": 20
         },
         "text": "Q. How many samples of water are Potable?",
         "x": 0.47,
         "y": 0.98
        }
       }
      }
     },
     "metadata": {},
     "output_type": "display_data"
    }
   ],
   "source": [
    "d= pd.DataFrame(water_df['Potability'].value_counts())\n",
    "fig = px.pie(d,values='Potability',names=['Not Potable','Potable'],hole=0.4,opacity=0.6,\n",
    "            color_discrete_sequence=[colors_green[3],colors_blue[3]],\n",
    "             labels={'label':'Potability','Potability':'No. Of Samples'})\n",
    "\n",
    "fig.add_annotation(text='Need to resample the data<br> to get a balanced dataset<br> or use diffrent weight for each class',\n",
    "                   x=1.2,y=0.9,showarrow=False,font_size=12,opacity=0.7,font_family='monospace')\n",
    "fig.add_annotation(text='Potability',\n",
    "                   x=0.5,y=0.5,showarrow=False,font_size=14,opacity=0.7,font_family='monospace')\n",
    "\n",
    "fig.update_layout(\n",
    "    font_family='monospace',\n",
    "    title=dict(text='Q. How many samples of water are Potable?',x=0.47,y=0.98,\n",
    "               font=dict(color=colors_dark[2],size=20)),\n",
    "    legend=dict(x=0.37,y=-0.05,orientation='h',traceorder='reversed'),\n",
    "    hoverlabel=dict(bgcolor='white'))\n",
    "\n",
    "fig.update_traces(textposition='outside', textinfo='percent+label')\n",
    "\n",
    "fig.show()"
   ]
  },
  {
   "cell_type": "code",
   "execution_count": 47,
   "metadata": {},
   "outputs": [
    {
     "data": {
      "text/plain": [
       "array([[<AxesSubplot:title={'center':'ph'}>,\n",
       "        <AxesSubplot:title={'center':'Hardness'}>,\n",
       "        <AxesSubplot:title={'center':'Solids'}>],\n",
       "       [<AxesSubplot:title={'center':'Chloramines'}>,\n",
       "        <AxesSubplot:title={'center':'Sulfate'}>,\n",
       "        <AxesSubplot:title={'center':'Conductivity'}>],\n",
       "       [<AxesSubplot:title={'center':'Organic_carbon'}>,\n",
       "        <AxesSubplot:title={'center':'Trihalomethanes'}>,\n",
       "        <AxesSubplot:title={'center':'Turbidity'}>]], dtype=object)"
      ]
     },
     "execution_count": 47,
     "metadata": {},
     "output_type": "execute_result"
    },
    {
     "data": {
      "image/png": "[encoded data removed]",
      "text/plain": [
       "<Figure size 864x576 with 9 Axes>"
      ]
     },
     "metadata": {
      "needs_background": "light"
     },
     "output_type": "display_data"
    }
   ],
   "source": [
    "water_df.drop('Potability', axis=1).hist(figsize=(12,8))"
   ]
  },
  {
   "cell_type": "code",
   "execution_count": 48,
   "metadata": {},
   "outputs": [
    {
     "data": {
      "text/html": [
       "<div>\n",
       "<style scoped>\n",
       "    .dataframe tbody tr th:only-of-type {\n",
       "        vertical-align: middle;\n",
       "    }\n",
       "\n",
       "    .dataframe tbody tr th {\n",
       "        vertical-align: top;\n",
       "    }\n",
       "\n",
       "    .dataframe thead th {\n",
       "        text-align: right;\n",
       "    }\n",
       "</style>\n",
       "<table border=\"1\" class=\"dataframe\">\n",
       "  <thead>\n",
       "    <tr style=\"text-align: right;\">\n",
       "      <th></th>\n",
       "      <th>ph</th>\n",
       "      <th>Hardness</th>\n",
       "      <th>Chloramines</th>\n",
       "      <th>Sulfate</th>\n",
       "      <th>Conductivity</th>\n",
       "      <th>Organic_carbon</th>\n",
       "      <th>Trihalomethanes</th>\n",
       "      <th>Turbidity</th>\n",
       "      <th>Potability</th>\n",
       "    </tr>\n",
       "  </thead>\n",
       "  <tbody>\n",
       "    <tr>\n",
       "      <th>0</th>\n",
       "      <td>NaN</td>\n",
       "      <td>204.890455</td>\n",
       "      <td>7.300212</td>\n",
       "      <td>368.516441</td>\n",
       "      <td>564.308654</td>\n",
       "      <td>10.379783</td>\n",
       "      <td>86.990970</td>\n",
       "      <td>2.963135</td>\n",
       "      <td>0</td>\n",
       "    </tr>\n",
       "    <tr>\n",
       "      <th>1</th>\n",
       "      <td>3.716080</td>\n",
       "      <td>129.422921</td>\n",
       "      <td>6.635246</td>\n",
       "      <td>NaN</td>\n",
       "      <td>592.885359</td>\n",
       "      <td>15.180013</td>\n",
       "      <td>56.329076</td>\n",
       "      <td>4.500656</td>\n",
       "      <td>0</td>\n",
       "    </tr>\n",
       "    <tr>\n",
       "      <th>2</th>\n",
       "      <td>8.099124</td>\n",
       "      <td>224.236259</td>\n",
       "      <td>9.275884</td>\n",
       "      <td>NaN</td>\n",
       "      <td>418.606213</td>\n",
       "      <td>16.868637</td>\n",
       "      <td>66.420093</td>\n",
       "      <td>3.055934</td>\n",
       "      <td>0</td>\n",
       "    </tr>\n",
       "    <tr>\n",
       "      <th>3</th>\n",
       "      <td>8.316766</td>\n",
       "      <td>214.373394</td>\n",
       "      <td>8.059332</td>\n",
       "      <td>356.886136</td>\n",
       "      <td>363.266516</td>\n",
       "      <td>18.436524</td>\n",
       "      <td>100.341674</td>\n",
       "      <td>4.628771</td>\n",
       "      <td>0</td>\n",
       "    </tr>\n",
       "    <tr>\n",
       "      <th>4</th>\n",
       "      <td>9.092223</td>\n",
       "      <td>181.101509</td>\n",
       "      <td>6.546600</td>\n",
       "      <td>310.135738</td>\n",
       "      <td>398.410813</td>\n",
       "      <td>11.558279</td>\n",
       "      <td>31.997993</td>\n",
       "      <td>4.075075</td>\n",
       "      <td>0</td>\n",
       "    </tr>\n",
       "    <tr>\n",
       "      <th>...</th>\n",
       "      <td>...</td>\n",
       "      <td>...</td>\n",
       "      <td>...</td>\n",
       "      <td>...</td>\n",
       "      <td>...</td>\n",
       "      <td>...</td>\n",
       "      <td>...</td>\n",
       "      <td>...</td>\n",
       "      <td>...</td>\n",
       "    </tr>\n",
       "    <tr>\n",
       "      <th>3271</th>\n",
       "      <td>4.668102</td>\n",
       "      <td>193.681735</td>\n",
       "      <td>7.166639</td>\n",
       "      <td>359.948574</td>\n",
       "      <td>526.424171</td>\n",
       "      <td>13.894419</td>\n",
       "      <td>66.687695</td>\n",
       "      <td>4.435821</td>\n",
       "      <td>1</td>\n",
       "    </tr>\n",
       "    <tr>\n",
       "      <th>3272</th>\n",
       "      <td>7.808856</td>\n",
       "      <td>193.553212</td>\n",
       "      <td>8.061362</td>\n",
       "      <td>NaN</td>\n",
       "      <td>392.449580</td>\n",
       "      <td>19.903225</td>\n",
       "      <td>NaN</td>\n",
       "      <td>2.798243</td>\n",
       "      <td>1</td>\n",
       "    </tr>\n",
       "    <tr>\n",
       "      <th>3273</th>\n",
       "      <td>9.419510</td>\n",
       "      <td>175.762646</td>\n",
       "      <td>7.350233</td>\n",
       "      <td>NaN</td>\n",
       "      <td>432.044783</td>\n",
       "      <td>11.039070</td>\n",
       "      <td>69.845400</td>\n",
       "      <td>3.298875</td>\n",
       "      <td>1</td>\n",
       "    </tr>\n",
       "    <tr>\n",
       "      <th>3274</th>\n",
       "      <td>5.126763</td>\n",
       "      <td>230.603758</td>\n",
       "      <td>6.303357</td>\n",
       "      <td>NaN</td>\n",
       "      <td>402.883113</td>\n",
       "      <td>11.168946</td>\n",
       "      <td>77.488213</td>\n",
       "      <td>4.708658</td>\n",
       "      <td>1</td>\n",
       "    </tr>\n",
       "    <tr>\n",
       "      <th>3275</th>\n",
       "      <td>7.874671</td>\n",
       "      <td>195.102299</td>\n",
       "      <td>7.509306</td>\n",
       "      <td>NaN</td>\n",
       "      <td>327.459760</td>\n",
       "      <td>16.140368</td>\n",
       "      <td>78.698446</td>\n",
       "      <td>2.309149</td>\n",
       "      <td>1</td>\n",
       "    </tr>\n",
       "  </tbody>\n",
       "</table>\n",
       "<p>3276 rows × 9 columns</p>\n",
       "</div>"
      ],
      "text/plain": [
       "            ph    Hardness  Chloramines     Sulfate  Conductivity  \\\n",
       "0          NaN  204.890455     7.300212  368.516441    564.308654   \n",
       "1     3.716080  129.422921     6.635246         NaN    592.885359   \n",
       "2     8.099124  224.236259     9.275884         NaN    418.606213   \n",
       "3     8.316766  214.373394     8.059332  356.886136    363.266516   \n",
       "4     9.092223  181.101509     6.546600  310.135738    398.410813   \n",
       "...        ...         ...          ...         ...           ...   \n",
       "3271  4.668102  193.681735     7.166639  359.948574    526.424171   \n",
       "3272  7.808856  193.553212     8.061362         NaN    392.449580   \n",
       "3273  9.419510  175.762646     7.350233         NaN    432.044783   \n",
       "3274  5.126763  230.603758     6.303357         NaN    402.883113   \n",
       "3275  7.874671  195.102299     7.509306         NaN    327.459760   \n",
       "\n",
       "      Organic_carbon  Trihalomethanes  Turbidity  Potability  \n",
       "0          10.379783        86.990970   2.963135           0  \n",
       "1          15.180013        56.329076   4.500656           0  \n",
       "2          16.868637        66.420093   3.055934           0  \n",
       "3          18.436524       100.341674   4.628771           0  \n",
       "4          11.558279        31.997993   4.075075           0  \n",
       "...              ...              ...        ...         ...  \n",
       "3271       13.894419        66.687695   4.435821           1  \n",
       "3272       19.903225              NaN   2.798243           1  \n",
       "3273       11.039070        69.845400   3.298875           1  \n",
       "3274       11.168946        77.488213   4.708658           1  \n",
       "3275       16.140368        78.698446   2.309149           1  \n",
       "\n",
       "[3276 rows x 9 columns]"
      ]
     },
     "execution_count": 48,
     "metadata": {},
     "output_type": "execute_result"
    }
   ],
   "source": [
    "water_df.drop(columns=\"Solids\")"
   ]
  },
  {
   "cell_type": "code",
   "execution_count": 49,
   "metadata": {},
   "outputs": [
    {
     "data": {
      "text/plain": [
       "<AxesSubplot:>"
      ]
     },
     "execution_count": 49,
     "metadata": {},
     "output_type": "execute_result"
    },
    {
     "data": {
      "image/png": "[encoded data removed]",
      "text/plain": [
       "<Figure size 720x360 with 2 Axes>"
      ]
     },
     "metadata": {
      "needs_background": "light"
     },
     "output_type": "display_data"
    }
   ],
   "source": [
    "plt.figure(figsize = (10,5))\n",
    "sns.heatmap(water_df.corr(), annot = True)"
   ]
  },
  {
   "cell_type": "code",
   "execution_count": 50,
   "metadata": {},
   "outputs": [
    {
     "data": {
      "text/plain": [
       "<AxesSubplot:>"
      ]
     },
     "execution_count": 50,
     "metadata": {},
     "output_type": "execute_result"
    },
    {
     "data": {
      "image/png": "[encoded data removed]",
      "text/plain": [
       "<Figure size 864x648 with 2 Axes>"
      ]
     },
     "metadata": {
      "needs_background": "light"
     },
     "output_type": "display_data"
    }
   ],
   "source": [
    "plt.figure(figsize = (12,9))\n",
    "sns.heatmap(water_df[water_df['Potability']==1].corr(), annot=True, square=True, fmt='.2f')"
   ]
  },
  {
   "cell_type": "code",
   "execution_count": 51,
   "metadata": {},
   "outputs": [
    {
     "data": {
      "text/plain": [
       "<AxesSubplot:>"
      ]
     },
     "execution_count": 51,
     "metadata": {},
     "output_type": "execute_result"
    },
    {
     "data": {
      "image/png": "[encoded data removed]",
      "text/plain": [
       "<Figure size 864x648 with 2 Axes>"
      ]
     },
     "metadata": {
      "needs_background": "light"
     },
     "output_type": "display_data"
    }
   ],
   "source": [
    "plt.figure(figsize = (12,9))\n",
    "sns.heatmap(water_df[water_df['Potability']==0].corr(), annot=True, square=True, fmt='.2f')"
   ]
  },
  {
   "cell_type": "code",
   "execution_count": 52,
   "metadata": {},
   "outputs": [
    {
     "data": {
      "text/plain": [
       "<AxesSubplot:>"
      ]
     },
     "execution_count": 52,
     "metadata": {},
     "output_type": "execute_result"
    },
    {
     "data": {
      "image/png": "[encoded data removed]",
      "text/plain": [
       "<Figure size 1080x576 with 2 Axes>"
      ]
     },
     "metadata": {
      "needs_background": "light"
     },
     "output_type": "display_data"
    }
   ],
   "source": [
    "fig, ax=plt.subplots(nrows=1, ncols=2, figsize=(15,8))\n",
    "plt.suptitle(\"Co-relation Matrics\", size=20, weight='bold')\n",
    "ax=ax.flatten()\n",
    "sns.heatmap(water_df[water_df['Potability']==1].corr(), annot=True, square=True, fmt='.2f', ax=ax[0], cbar=False)\n",
    "sns.heatmap(water_df[water_df['Potability']==0].corr(), annot=True, square=True, fmt='.2f', ax=ax[1], cbar=False)"
   ]
  },
  {
   "cell_type": "code",
   "execution_count": 62,
   "metadata": {},
   "outputs": [],
   "source": [
    "int_cols = water_df.columns.drop('Potability')"
   ]
  },
  {
   "cell_type": "code",
   "execution_count": 63,
   "metadata": {},
   "outputs": [
    {
     "name": "stdout",
     "output_type": "stream",
     "text": [
      "p_value for ph is nan we accept the null hypothesis\n",
      "p_value for Hardness is 0.42854158740864623 we accept the null hypothesis\n",
      "p_value for Solids is 0.053463638184504905 is less than significant value 0.1, so we have no enough evidance to prove Null Hypothesis. so we reject the Null Hypotesis\n",
      "p_value for Chloramines is 0.17361022465074671 we accept the null hypothesis\n",
      "p_value for Sulfate is nan we accept the null hypothesis\n",
      "p_value for Conductivity is 0.6418845485973537 we accept the null hypothesis\n",
      "p_value for Organic_carbon is 0.08599746163873828 is less than significant value 0.1, so we have no enough evidance to prove Null Hypothesis. so we reject the Null Hypotesis\n",
      "p_value for Trihalomethanes is nan we accept the null hypothesis\n",
      "p_value for Turbidity is 0.9279391620838058 we accept the null hypothesis\n"
     ]
    }
   ],
   "source": [
    "from scipy.stats import ttest_ind\n",
    "p_val=[]\n",
    "for i in int_cols:\n",
    "    pota_1 = water_df[water_df['Potability']==1][i]\n",
    "    pota_0 = water_df[water_df['Potability']==0][i]\n",
    "    stat, p_value=ttest_ind(pota_1, pota_0)\n",
    "    p_val.append(np.round(p_value,3))\n",
    "    if p_value <0.1:\n",
    "        print(f\"p_value for {i} is {p_value} is less than significant value 0.1, so we have no enough evidance to prove Null Hypothesis. so we reject the Null Hypotesis\")\n",
    "    else:\n",
    "        print(f\"p_value for {i} is {p_value} we accept the null hypothesis\")"
   ]
  },
  {
   "cell_type": "markdown",
   "metadata": {},
   "source": [
    "The result show only variable Solid and Organic_carbon have significant difference between potable & non-potable water. "
   ]
  },
  {
   "cell_type": "markdown",
   "metadata": {},
   "source": [
    "Split the data before doing preprocessing data so there will be no information from test data that get leaked to training data."
   ]
  },
  {
   "cell_type": "code",
   "execution_count": 64,
   "metadata": {},
   "outputs": [],
   "source": [
    "from sklearn.model_selection import train_test_split\n",
    "\n",
    "# Buat input & output\n",
    "def split_input_output(data, target_column):\n",
    "    X = data.drop(columns = target_column)\n",
    "    y = data[target_column]\n",
    "\n",
    "    return X, y\n",
    "\n",
    "X, y = split_input_output(data = water_df,\n",
    "                          target_column = \"Potability\")\n",
    "\n",
    "X_train, X_test, y_train, y_test = train_test_split(X,\n",
    "                                                    y,\n",
    "                                                    test_size = 0.2,\n",
    "                                                    stratify = y,\n",
    "                                                    random_state = 123)"
   ]
  },
  {
   "cell_type": "code",
   "execution_count": 84,
   "metadata": {},
   "outputs": [
    {
     "data": {
      "text/plain": [
       "array([[<AxesSubplot:title={'center':'ph'}>,\n",
       "        <AxesSubplot:title={'center':'Hardness'}>,\n",
       "        <AxesSubplot:title={'center':'Solids'}>],\n",
       "       [<AxesSubplot:title={'center':'Chloramines'}>,\n",
       "        <AxesSubplot:title={'center':'Sulfate'}>,\n",
       "        <AxesSubplot:title={'center':'Conductivity'}>],\n",
       "       [<AxesSubplot:title={'center':'Organic_carbon'}>,\n",
       "        <AxesSubplot:title={'center':'Trihalomethanes'}>,\n",
       "        <AxesSubplot:title={'center':'Turbidity'}>]], dtype=object)"
      ]
     },
     "execution_count": 84,
     "metadata": {},
     "output_type": "execute_result"
    },
    {
     "data": {
      "image/png": "[encoded data removed]",
      "text/plain": [
       "<Figure size 864x576 with 9 Axes>"
      ]
     },
     "metadata": {
      "needs_background": "light"
     },
     "output_type": "display_data"
    }
   ],
   "source": [
    "X_train.hist(figsize=(12,8))"
   ]
  },
  {
   "cell_type": "code",
   "execution_count": 65,
   "metadata": {},
   "outputs": [],
   "source": [
    "# Buat imputer untuk jaga-jaga apabila di data test ada yang kosong\n",
    "from sklearn.impute import SimpleImputer\n",
    "\n",
    "def imputer(data, imputer = None):\n",
    "    if imputer == None:\n",
    "        # Buat imputer\n",
    "        imputer = SimpleImputer(missing_values = np.nan,\n",
    "                                strategy = \"median\")\n",
    "        imputer.fit(data)\n",
    "\n",
    "    # Transform data dengan imputer\n",
    "    data_imputed = imputer.transform(data)\n",
    "    data_imputed = pd.DataFrame(data_imputed,\n",
    "                                index = data.index,\n",
    "                                columns = data.columns)\n",
    "    \n",
    "    return data_imputed, imputer"
   ]
  },
  {
   "cell_type": "code",
   "execution_count": 66,
   "metadata": {},
   "outputs": [],
   "source": [
    "# Buat imputer untuk jaga-jaga apabila di data test ada yang kosong\n",
    "from sklearn.impute import KNNImputer\n",
    "\n",
    "def imputer(data, imputer = None):\n",
    "    if imputer == None:\n",
    "        # Buat imputer\n",
    "        imputer = KNNImputer(missing_values = np.nan,\n",
    "                   n_neighbors=3)\n",
    "        imputer.fit(data)\n",
    "\n",
    "    # Transform data dengan imputer\n",
    "    data_imputed = imputer.transform(data)\n",
    "    data_imputed = pd.DataFrame(data_imputed,\n",
    "                                index = data.index,\n",
    "                                columns = data.columns)\n",
    "    \n",
    "    return data_imputed, imputer"
   ]
  },
  {
   "cell_type": "code",
   "execution_count": 72,
   "metadata": {},
   "outputs": [],
   "source": [
    "X_train_imputed, imputer_num = imputer(data = X_train)"
   ]
  },
  {
   "cell_type": "code",
   "execution_count": 73,
   "metadata": {},
   "outputs": [
    {
     "data": {
      "text/plain": [
       "KNNImputer(n_neighbors=3)"
      ]
     },
     "execution_count": 73,
     "metadata": {},
     "output_type": "execute_result"
    }
   ],
   "source": [
    "imputer_num"
   ]
  },
  {
   "cell_type": "code",
   "execution_count": 74,
   "metadata": {},
   "outputs": [
    {
     "name": "stdout",
     "output_type": "stream",
     "text": [
      "<class 'pandas.core.frame.DataFrame'>\n",
      "Int64Index: 2620 entries, 1318 to 2476\n",
      "Data columns (total 9 columns):\n",
      " #   Column           Non-Null Count  Dtype  \n",
      "---  ------           --------------  -----  \n",
      " 0   ph               2620 non-null   float64\n",
      " 1   Hardness         2620 non-null   float64\n",
      " 2   Solids           2620 non-null   float64\n",
      " 3   Chloramines      2620 non-null   float64\n",
      " 4   Sulfate          2620 non-null   float64\n",
      " 5   Conductivity     2620 non-null   float64\n",
      " 6   Organic_carbon   2620 non-null   float64\n",
      " 7   Trihalomethanes  2620 non-null   float64\n",
      " 8   Turbidity        2620 non-null   float64\n",
      "dtypes: float64(9)\n",
      "memory usage: 204.7 KB\n"
     ]
    }
   ],
   "source": [
    "X_train_imputed.info()"
   ]
  },
  {
   "cell_type": "code",
   "execution_count": 75,
   "metadata": {},
   "outputs": [
    {
     "data": {
      "text/html": [
       "<div>\n",
       "<style scoped>\n",
       "    .dataframe tbody tr th:only-of-type {\n",
       "        vertical-align: middle;\n",
       "    }\n",
       "\n",
       "    .dataframe tbody tr th {\n",
       "        vertical-align: top;\n",
       "    }\n",
       "\n",
       "    .dataframe thead th {\n",
       "        text-align: right;\n",
       "    }\n",
       "</style>\n",
       "<table border=\"1\" class=\"dataframe\">\n",
       "  <thead>\n",
       "    <tr style=\"text-align: right;\">\n",
       "      <th></th>\n",
       "      <th>ph</th>\n",
       "      <th>Hardness</th>\n",
       "      <th>Solids</th>\n",
       "      <th>Chloramines</th>\n",
       "      <th>Sulfate</th>\n",
       "      <th>Conductivity</th>\n",
       "      <th>Organic_carbon</th>\n",
       "      <th>Trihalomethanes</th>\n",
       "      <th>Turbidity</th>\n",
       "    </tr>\n",
       "  </thead>\n",
       "  <tbody>\n",
       "    <tr>\n",
       "      <th>1318</th>\n",
       "      <td>6.724639</td>\n",
       "      <td>223.175415</td>\n",
       "      <td>41552.019664</td>\n",
       "      <td>7.744700</td>\n",
       "      <td>271.157120</td>\n",
       "      <td>463.885216</td>\n",
       "      <td>13.165035</td>\n",
       "      <td>61.058796</td>\n",
       "      <td>2.921415</td>\n",
       "    </tr>\n",
       "    <tr>\n",
       "      <th>1979</th>\n",
       "      <td>7.201702</td>\n",
       "      <td>147.711086</td>\n",
       "      <td>37308.994159</td>\n",
       "      <td>5.677451</td>\n",
       "      <td>279.164446</td>\n",
       "      <td>395.976824</td>\n",
       "      <td>13.326125</td>\n",
       "      <td>63.626894</td>\n",
       "      <td>3.883250</td>\n",
       "    </tr>\n",
       "    <tr>\n",
       "      <th>1239</th>\n",
       "      <td>6.810467</td>\n",
       "      <td>209.735559</td>\n",
       "      <td>32602.340084</td>\n",
       "      <td>7.422781</td>\n",
       "      <td>341.174269</td>\n",
       "      <td>340.030089</td>\n",
       "      <td>16.736749</td>\n",
       "      <td>42.349461</td>\n",
       "      <td>4.402340</td>\n",
       "    </tr>\n",
       "    <tr>\n",
       "      <th>946</th>\n",
       "      <td>5.924540</td>\n",
       "      <td>186.620068</td>\n",
       "      <td>44376.187382</td>\n",
       "      <td>6.614180</td>\n",
       "      <td>341.637774</td>\n",
       "      <td>273.446838</td>\n",
       "      <td>12.758115</td>\n",
       "      <td>59.456691</td>\n",
       "      <td>4.224343</td>\n",
       "    </tr>\n",
       "    <tr>\n",
       "      <th>1032</th>\n",
       "      <td>8.697122</td>\n",
       "      <td>166.452774</td>\n",
       "      <td>27752.000240</td>\n",
       "      <td>5.350924</td>\n",
       "      <td>372.264099</td>\n",
       "      <td>393.555796</td>\n",
       "      <td>13.748668</td>\n",
       "      <td>75.024545</td>\n",
       "      <td>4.180568</td>\n",
       "    </tr>\n",
       "    <tr>\n",
       "      <th>2969</th>\n",
       "      <td>5.726336</td>\n",
       "      <td>191.752290</td>\n",
       "      <td>35899.280309</td>\n",
       "      <td>8.066654</td>\n",
       "      <td>378.774605</td>\n",
       "      <td>307.987551</td>\n",
       "      <td>12.568721</td>\n",
       "      <td>60.192351</td>\n",
       "      <td>3.912289</td>\n",
       "    </tr>\n",
       "    <tr>\n",
       "      <th>120</th>\n",
       "      <td>6.877457</td>\n",
       "      <td>136.879214</td>\n",
       "      <td>27433.587294</td>\n",
       "      <td>7.091522</td>\n",
       "      <td>307.397088</td>\n",
       "      <td>342.196347</td>\n",
       "      <td>18.403846</td>\n",
       "      <td>81.193412</td>\n",
       "      <td>3.827650</td>\n",
       "    </tr>\n",
       "    <tr>\n",
       "      <th>1024</th>\n",
       "      <td>6.729580</td>\n",
       "      <td>242.164146</td>\n",
       "      <td>17975.553227</td>\n",
       "      <td>9.808651</td>\n",
       "      <td>322.235101</td>\n",
       "      <td>440.859435</td>\n",
       "      <td>13.571223</td>\n",
       "      <td>62.179477</td>\n",
       "      <td>4.003458</td>\n",
       "    </tr>\n",
       "    <tr>\n",
       "      <th>0</th>\n",
       "      <td>6.655223</td>\n",
       "      <td>204.890455</td>\n",
       "      <td>20791.318981</td>\n",
       "      <td>7.300212</td>\n",
       "      <td>368.516441</td>\n",
       "      <td>564.308654</td>\n",
       "      <td>10.379783</td>\n",
       "      <td>86.990970</td>\n",
       "      <td>2.963135</td>\n",
       "    </tr>\n",
       "    <tr>\n",
       "      <th>462</th>\n",
       "      <td>8.926113</td>\n",
       "      <td>189.987947</td>\n",
       "      <td>15249.620244</td>\n",
       "      <td>7.076222</td>\n",
       "      <td>341.526873</td>\n",
       "      <td>361.901628</td>\n",
       "      <td>21.278095</td>\n",
       "      <td>59.528920</td>\n",
       "      <td>2.752134</td>\n",
       "    </tr>\n",
       "  </tbody>\n",
       "</table>\n",
       "</div>"
      ],
      "text/plain": [
       "            ph    Hardness        Solids  Chloramines     Sulfate  \\\n",
       "1318  6.724639  223.175415  41552.019664     7.744700  271.157120   \n",
       "1979  7.201702  147.711086  37308.994159     5.677451  279.164446   \n",
       "1239  6.810467  209.735559  32602.340084     7.422781  341.174269   \n",
       "946   5.924540  186.620068  44376.187382     6.614180  341.637774   \n",
       "1032  8.697122  166.452774  27752.000240     5.350924  372.264099   \n",
       "2969  5.726336  191.752290  35899.280309     8.066654  378.774605   \n",
       "120   6.877457  136.879214  27433.587294     7.091522  307.397088   \n",
       "1024  6.729580  242.164146  17975.553227     9.808651  322.235101   \n",
       "0     6.655223  204.890455  20791.318981     7.300212  368.516441   \n",
       "462   8.926113  189.987947  15249.620244     7.076222  341.526873   \n",
       "\n",
       "      Conductivity  Organic_carbon  Trihalomethanes  Turbidity  \n",
       "1318    463.885216       13.165035        61.058796   2.921415  \n",
       "1979    395.976824       13.326125        63.626894   3.883250  \n",
       "1239    340.030089       16.736749        42.349461   4.402340  \n",
       "946     273.446838       12.758115        59.456691   4.224343  \n",
       "1032    393.555796       13.748668        75.024545   4.180568  \n",
       "2969    307.987551       12.568721        60.192351   3.912289  \n",
       "120     342.196347       18.403846        81.193412   3.827650  \n",
       "1024    440.859435       13.571223        62.179477   4.003458  \n",
       "0       564.308654       10.379783        86.990970   2.963135  \n",
       "462     361.901628       21.278095        59.528920   2.752134  "
      ]
     },
     "execution_count": 75,
     "metadata": {},
     "output_type": "execute_result"
    }
   ],
   "source": [
    "X_train_imputed.head(10)"
   ]
  },
  {
   "cell_type": "code",
   "execution_count": 76,
   "metadata": {},
   "outputs": [
    {
     "data": {
      "text/html": [
       "<div>\n",
       "<style scoped>\n",
       "    .dataframe tbody tr th:only-of-type {\n",
       "        vertical-align: middle;\n",
       "    }\n",
       "\n",
       "    .dataframe tbody tr th {\n",
       "        vertical-align: top;\n",
       "    }\n",
       "\n",
       "    .dataframe thead th {\n",
       "        text-align: right;\n",
       "    }\n",
       "</style>\n",
       "<table border=\"1\" class=\"dataframe\">\n",
       "  <thead>\n",
       "    <tr style=\"text-align: right;\">\n",
       "      <th></th>\n",
       "      <th>ph</th>\n",
       "      <th>Hardness</th>\n",
       "      <th>Solids</th>\n",
       "      <th>Chloramines</th>\n",
       "      <th>Sulfate</th>\n",
       "      <th>Conductivity</th>\n",
       "      <th>Organic_carbon</th>\n",
       "      <th>Trihalomethanes</th>\n",
       "      <th>Turbidity</th>\n",
       "    </tr>\n",
       "  </thead>\n",
       "  <tbody>\n",
       "    <tr>\n",
       "      <th>1318</th>\n",
       "      <td>6.724639</td>\n",
       "      <td>223.175415</td>\n",
       "      <td>41552.019664</td>\n",
       "      <td>7.744700</td>\n",
       "      <td>271.157120</td>\n",
       "      <td>463.885216</td>\n",
       "      <td>13.165035</td>\n",
       "      <td>61.058796</td>\n",
       "      <td>2.921415</td>\n",
       "    </tr>\n",
       "    <tr>\n",
       "      <th>1979</th>\n",
       "      <td>7.201702</td>\n",
       "      <td>147.711086</td>\n",
       "      <td>37308.994159</td>\n",
       "      <td>5.677451</td>\n",
       "      <td>279.164446</td>\n",
       "      <td>395.976824</td>\n",
       "      <td>13.326125</td>\n",
       "      <td>63.626894</td>\n",
       "      <td>3.883250</td>\n",
       "    </tr>\n",
       "    <tr>\n",
       "      <th>1239</th>\n",
       "      <td>6.810467</td>\n",
       "      <td>209.735559</td>\n",
       "      <td>32602.340084</td>\n",
       "      <td>7.422781</td>\n",
       "      <td>341.174269</td>\n",
       "      <td>340.030089</td>\n",
       "      <td>16.736749</td>\n",
       "      <td>42.349461</td>\n",
       "      <td>4.402340</td>\n",
       "    </tr>\n",
       "    <tr>\n",
       "      <th>946</th>\n",
       "      <td>5.924540</td>\n",
       "      <td>186.620068</td>\n",
       "      <td>44376.187382</td>\n",
       "      <td>6.614180</td>\n",
       "      <td>341.637774</td>\n",
       "      <td>273.446838</td>\n",
       "      <td>12.758115</td>\n",
       "      <td>59.456691</td>\n",
       "      <td>4.224343</td>\n",
       "    </tr>\n",
       "    <tr>\n",
       "      <th>1032</th>\n",
       "      <td>8.697122</td>\n",
       "      <td>166.452774</td>\n",
       "      <td>27752.000240</td>\n",
       "      <td>5.350924</td>\n",
       "      <td>372.264099</td>\n",
       "      <td>393.555796</td>\n",
       "      <td>13.748668</td>\n",
       "      <td>75.024545</td>\n",
       "      <td>4.180568</td>\n",
       "    </tr>\n",
       "    <tr>\n",
       "      <th>2969</th>\n",
       "      <td>5.726336</td>\n",
       "      <td>191.752290</td>\n",
       "      <td>35899.280309</td>\n",
       "      <td>8.066654</td>\n",
       "      <td>378.774605</td>\n",
       "      <td>307.987551</td>\n",
       "      <td>12.568721</td>\n",
       "      <td>60.192351</td>\n",
       "      <td>3.912289</td>\n",
       "    </tr>\n",
       "    <tr>\n",
       "      <th>120</th>\n",
       "      <td>6.877457</td>\n",
       "      <td>136.879214</td>\n",
       "      <td>27433.587294</td>\n",
       "      <td>7.091522</td>\n",
       "      <td>307.397088</td>\n",
       "      <td>342.196347</td>\n",
       "      <td>18.403846</td>\n",
       "      <td>81.193412</td>\n",
       "      <td>3.827650</td>\n",
       "    </tr>\n",
       "    <tr>\n",
       "      <th>1024</th>\n",
       "      <td>6.729580</td>\n",
       "      <td>242.164146</td>\n",
       "      <td>17975.553227</td>\n",
       "      <td>9.808651</td>\n",
       "      <td>322.235101</td>\n",
       "      <td>440.859435</td>\n",
       "      <td>13.571223</td>\n",
       "      <td>62.179477</td>\n",
       "      <td>4.003458</td>\n",
       "    </tr>\n",
       "    <tr>\n",
       "      <th>0</th>\n",
       "      <td>NaN</td>\n",
       "      <td>204.890455</td>\n",
       "      <td>20791.318981</td>\n",
       "      <td>7.300212</td>\n",
       "      <td>368.516441</td>\n",
       "      <td>564.308654</td>\n",
       "      <td>10.379783</td>\n",
       "      <td>86.990970</td>\n",
       "      <td>2.963135</td>\n",
       "    </tr>\n",
       "    <tr>\n",
       "      <th>462</th>\n",
       "      <td>8.926113</td>\n",
       "      <td>189.987947</td>\n",
       "      <td>15249.620244</td>\n",
       "      <td>7.076222</td>\n",
       "      <td>341.526873</td>\n",
       "      <td>361.901628</td>\n",
       "      <td>21.278095</td>\n",
       "      <td>NaN</td>\n",
       "      <td>2.752134</td>\n",
       "    </tr>\n",
       "  </tbody>\n",
       "</table>\n",
       "</div>"
      ],
      "text/plain": [
       "            ph    Hardness        Solids  Chloramines     Sulfate  \\\n",
       "1318  6.724639  223.175415  41552.019664     7.744700  271.157120   \n",
       "1979  7.201702  147.711086  37308.994159     5.677451  279.164446   \n",
       "1239  6.810467  209.735559  32602.340084     7.422781  341.174269   \n",
       "946   5.924540  186.620068  44376.187382     6.614180  341.637774   \n",
       "1032  8.697122  166.452774  27752.000240     5.350924  372.264099   \n",
       "2969  5.726336  191.752290  35899.280309     8.066654  378.774605   \n",
       "120   6.877457  136.879214  27433.587294     7.091522  307.397088   \n",
       "1024  6.729580  242.164146  17975.553227     9.808651  322.235101   \n",
       "0          NaN  204.890455  20791.318981     7.300212  368.516441   \n",
       "462   8.926113  189.987947  15249.620244     7.076222  341.526873   \n",
       "\n",
       "      Conductivity  Organic_carbon  Trihalomethanes  Turbidity  \n",
       "1318    463.885216       13.165035        61.058796   2.921415  \n",
       "1979    395.976824       13.326125        63.626894   3.883250  \n",
       "1239    340.030089       16.736749        42.349461   4.402340  \n",
       "946     273.446838       12.758115        59.456691   4.224343  \n",
       "1032    393.555796       13.748668        75.024545   4.180568  \n",
       "2969    307.987551       12.568721        60.192351   3.912289  \n",
       "120     342.196347       18.403846        81.193412   3.827650  \n",
       "1024    440.859435       13.571223        62.179477   4.003458  \n",
       "0       564.308654       10.379783        86.990970   2.963135  \n",
       "462     361.901628       21.278095              NaN   2.752134  "
      ]
     },
     "execution_count": 76,
     "metadata": {},
     "output_type": "execute_result"
    }
   ],
   "source": [
    "X_train.head(10)"
   ]
  },
  {
   "cell_type": "markdown",
   "metadata": {},
   "source": [
    "### Scale data"
   ]
  },
  {
   "cell_type": "code",
   "execution_count": 77,
   "metadata": {},
   "outputs": [],
   "source": [
    "from sklearn.preprocessing import StandardScaler"
   ]
  },
  {
   "cell_type": "code",
   "execution_count": 78,
   "metadata": {},
   "outputs": [],
   "source": [
    "def standardizeData(data, scaler = None):\n",
    "    if scaler == None:\n",
    "        # Buat & Fit scaler\n",
    "        scaler = StandardScaler()\n",
    "        scaler.fit(data)\n",
    "\n",
    "    # Tranform data\n",
    "    data_scaled = scaler.transform(data)\n",
    "    data_scaled = pd.DataFrame(data_scaled,\n",
    "                               index = data.index,\n",
    "                               columns = data.columns)\n",
    "    \n",
    "    return data_scaled, scaler\n"
   ]
  },
  {
   "cell_type": "code",
   "execution_count": 79,
   "metadata": {},
   "outputs": [
    {
     "data": {
      "text/html": [
       "<div>\n",
       "<style scoped>\n",
       "    .dataframe tbody tr th:only-of-type {\n",
       "        vertical-align: middle;\n",
       "    }\n",
       "\n",
       "    .dataframe tbody tr th {\n",
       "        vertical-align: top;\n",
       "    }\n",
       "\n",
       "    .dataframe thead th {\n",
       "        text-align: right;\n",
       "    }\n",
       "</style>\n",
       "<table border=\"1\" class=\"dataframe\">\n",
       "  <thead>\n",
       "    <tr style=\"text-align: right;\">\n",
       "      <th></th>\n",
       "      <th>ph</th>\n",
       "      <th>Hardness</th>\n",
       "      <th>Solids</th>\n",
       "      <th>Chloramines</th>\n",
       "      <th>Sulfate</th>\n",
       "      <th>Conductivity</th>\n",
       "      <th>Organic_carbon</th>\n",
       "      <th>Trihalomethanes</th>\n",
       "      <th>Turbidity</th>\n",
       "    </tr>\n",
       "  </thead>\n",
       "  <tbody>\n",
       "    <tr>\n",
       "      <th>1318</th>\n",
       "      <td>-0.249557</td>\n",
       "      <td>0.836794</td>\n",
       "      <td>2.223633</td>\n",
       "      <td>0.388450</td>\n",
       "      <td>-1.638000</td>\n",
       "      <td>0.473789</td>\n",
       "      <td>-0.355349</td>\n",
       "      <td>-0.320528</td>\n",
       "      <td>-1.344819</td>\n",
       "    </tr>\n",
       "    <tr>\n",
       "      <th>1979</th>\n",
       "      <td>0.067010</td>\n",
       "      <td>-1.498724</td>\n",
       "      <td>1.741746</td>\n",
       "      <td>-0.916769</td>\n",
       "      <td>-1.425770</td>\n",
       "      <td>-0.370563</td>\n",
       "      <td>-0.307049</td>\n",
       "      <td>-0.159810</td>\n",
       "      <td>-0.113956</td>\n",
       "    </tr>\n",
       "    <tr>\n",
       "      <th>1239</th>\n",
       "      <td>-0.192604</td>\n",
       "      <td>0.420849</td>\n",
       "      <td>1.207204</td>\n",
       "      <td>0.185197</td>\n",
       "      <td>0.217772</td>\n",
       "      <td>-1.066187</td>\n",
       "      <td>0.715565</td>\n",
       "      <td>-1.491406</td>\n",
       "      <td>0.550324</td>\n",
       "    </tr>\n",
       "    <tr>\n",
       "      <th>946</th>\n",
       "      <td>-0.780482</td>\n",
       "      <td>-0.294544</td>\n",
       "      <td>2.544378</td>\n",
       "      <td>-0.325337</td>\n",
       "      <td>0.230057</td>\n",
       "      <td>-1.894062</td>\n",
       "      <td>-0.477357</td>\n",
       "      <td>-0.420792</td>\n",
       "      <td>0.322541</td>\n",
       "    </tr>\n",
       "    <tr>\n",
       "      <th>1032</th>\n",
       "      <td>1.059334</td>\n",
       "      <td>-0.918694</td>\n",
       "      <td>0.656343</td>\n",
       "      <td>-1.122932</td>\n",
       "      <td>1.041793</td>\n",
       "      <td>-0.400665</td>\n",
       "      <td>-0.180357</td>\n",
       "      <td>0.553484</td>\n",
       "      <td>0.266522</td>\n",
       "    </tr>\n",
       "  </tbody>\n",
       "</table>\n",
       "</div>"
      ],
      "text/plain": [
       "            ph  Hardness    Solids  Chloramines   Sulfate  Conductivity  \\\n",
       "1318 -0.249557  0.836794  2.223633     0.388450 -1.638000      0.473789   \n",
       "1979  0.067010 -1.498724  1.741746    -0.916769 -1.425770     -0.370563   \n",
       "1239 -0.192604  0.420849  1.207204     0.185197  0.217772     -1.066187   \n",
       "946  -0.780482 -0.294544  2.544378    -0.325337  0.230057     -1.894062   \n",
       "1032  1.059334 -0.918694  0.656343    -1.122932  1.041793     -0.400665   \n",
       "\n",
       "      Organic_carbon  Trihalomethanes  Turbidity  \n",
       "1318       -0.355349        -0.320528  -1.344819  \n",
       "1979       -0.307049        -0.159810  -0.113956  \n",
       "1239        0.715565        -1.491406   0.550324  \n",
       "946        -0.477357        -0.420792   0.322541  \n",
       "1032       -0.180357         0.553484   0.266522  "
      ]
     },
     "execution_count": 79,
     "metadata": {},
     "output_type": "execute_result"
    }
   ],
   "source": [
    "X_train_clean, scaler = standardizeData(data = X_train_imputed)\n",
    "X_train_clean.head()"
   ]
  },
  {
   "cell_type": "markdown",
   "metadata": {},
   "source": [
    "# Transform X_test data"
   ]
  },
  {
   "cell_type": "code",
   "execution_count": 80,
   "metadata": {},
   "outputs": [],
   "source": [
    "def transformTestData(data, imputer_num, scaler):\n",
    "    \n",
    "    # 1. Handling num\n",
    "    data_imputed, _ = imputer(data = data,\n",
    "                            imputer = imputer_num)\n",
    "                            \n",
    "    \n",
    "    # 2. Scale data\n",
    "    data_clean, _ = standardizeData(data = data_imputed,\n",
    "                                    scaler = scaler)\n",
    "\n",
    "    return data_clean\n"
   ]
  },
  {
   "cell_type": "code",
   "execution_count": 81,
   "metadata": {},
   "outputs": [
    {
     "data": {
      "text/html": [
       "<div>\n",
       "<style scoped>\n",
       "    .dataframe tbody tr th:only-of-type {\n",
       "        vertical-align: middle;\n",
       "    }\n",
       "\n",
       "    .dataframe tbody tr th {\n",
       "        vertical-align: top;\n",
       "    }\n",
       "\n",
       "    .dataframe thead th {\n",
       "        text-align: right;\n",
       "    }\n",
       "</style>\n",
       "<table border=\"1\" class=\"dataframe\">\n",
       "  <thead>\n",
       "    <tr style=\"text-align: right;\">\n",
       "      <th></th>\n",
       "      <th>ph</th>\n",
       "      <th>Hardness</th>\n",
       "      <th>Solids</th>\n",
       "      <th>Chloramines</th>\n",
       "      <th>Sulfate</th>\n",
       "      <th>Conductivity</th>\n",
       "      <th>Organic_carbon</th>\n",
       "      <th>Trihalomethanes</th>\n",
       "      <th>Turbidity</th>\n",
       "    </tr>\n",
       "  </thead>\n",
       "  <tbody>\n",
       "    <tr>\n",
       "      <th>3202</th>\n",
       "      <td>8.743959</td>\n",
       "      <td>197.749325</td>\n",
       "      <td>40843.616551</td>\n",
       "      <td>6.368862</td>\n",
       "      <td>310.677200</td>\n",
       "      <td>326.253326</td>\n",
       "      <td>12.503203</td>\n",
       "      <td>66.421884</td>\n",
       "      <td>4.118973</td>\n",
       "    </tr>\n",
       "    <tr>\n",
       "      <th>2474</th>\n",
       "      <td>4.964070</td>\n",
       "      <td>168.283365</td>\n",
       "      <td>17694.574833</td>\n",
       "      <td>9.725321</td>\n",
       "      <td>333.639511</td>\n",
       "      <td>353.069939</td>\n",
       "      <td>17.293732</td>\n",
       "      <td>67.252514</td>\n",
       "      <td>4.761701</td>\n",
       "    </tr>\n",
       "    <tr>\n",
       "      <th>1972</th>\n",
       "      <td>5.892413</td>\n",
       "      <td>139.362253</td>\n",
       "      <td>11006.048507</td>\n",
       "      <td>5.311990</td>\n",
       "      <td>339.327905</td>\n",
       "      <td>446.494394</td>\n",
       "      <td>10.567071</td>\n",
       "      <td>89.692883</td>\n",
       "      <td>3.311813</td>\n",
       "    </tr>\n",
       "    <tr>\n",
       "      <th>1937</th>\n",
       "      <td>6.281904</td>\n",
       "      <td>160.306685</td>\n",
       "      <td>17095.270070</td>\n",
       "      <td>6.730577</td>\n",
       "      <td>305.094000</td>\n",
       "      <td>424.446185</td>\n",
       "      <td>14.374967</td>\n",
       "      <td>41.279830</td>\n",
       "      <td>4.457730</td>\n",
       "    </tr>\n",
       "    <tr>\n",
       "      <th>1639</th>\n",
       "      <td>6.758852</td>\n",
       "      <td>218.153477</td>\n",
       "      <td>22540.775167</td>\n",
       "      <td>7.196435</td>\n",
       "      <td>304.680599</td>\n",
       "      <td>382.502700</td>\n",
       "      <td>18.838735</td>\n",
       "      <td>53.815435</td>\n",
       "      <td>3.639972</td>\n",
       "    </tr>\n",
       "    <tr>\n",
       "      <th>2035</th>\n",
       "      <td>5.763773</td>\n",
       "      <td>183.073629</td>\n",
       "      <td>22025.696606</td>\n",
       "      <td>8.952896</td>\n",
       "      <td>NaN</td>\n",
       "      <td>376.581389</td>\n",
       "      <td>10.547398</td>\n",
       "      <td>63.299757</td>\n",
       "      <td>3.253200</td>\n",
       "    </tr>\n",
       "    <tr>\n",
       "      <th>3219</th>\n",
       "      <td>6.417716</td>\n",
       "      <td>209.702425</td>\n",
       "      <td>31974.481631</td>\n",
       "      <td>7.263425</td>\n",
       "      <td>321.382124</td>\n",
       "      <td>289.450118</td>\n",
       "      <td>11.369071</td>\n",
       "      <td>NaN</td>\n",
       "      <td>4.210327</td>\n",
       "    </tr>\n",
       "    <tr>\n",
       "      <th>1840</th>\n",
       "      <td>NaN</td>\n",
       "      <td>240.984187</td>\n",
       "      <td>11429.201199</td>\n",
       "      <td>5.515977</td>\n",
       "      <td>267.680826</td>\n",
       "      <td>323.157517</td>\n",
       "      <td>8.666283</td>\n",
       "      <td>88.679265</td>\n",
       "      <td>3.802427</td>\n",
       "    </tr>\n",
       "    <tr>\n",
       "      <th>2711</th>\n",
       "      <td>7.650683</td>\n",
       "      <td>239.490148</td>\n",
       "      <td>15326.925014</td>\n",
       "      <td>8.927896</td>\n",
       "      <td>373.436312</td>\n",
       "      <td>425.336352</td>\n",
       "      <td>17.883592</td>\n",
       "      <td>NaN</td>\n",
       "      <td>4.043711</td>\n",
       "    </tr>\n",
       "    <tr>\n",
       "      <th>903</th>\n",
       "      <td>8.285395</td>\n",
       "      <td>196.552068</td>\n",
       "      <td>19096.822369</td>\n",
       "      <td>7.357857</td>\n",
       "      <td>342.936881</td>\n",
       "      <td>388.941163</td>\n",
       "      <td>14.151473</td>\n",
       "      <td>73.187013</td>\n",
       "      <td>5.438488</td>\n",
       "    </tr>\n",
       "  </tbody>\n",
       "</table>\n",
       "</div>"
      ],
      "text/plain": [
       "            ph    Hardness        Solids  Chloramines     Sulfate  \\\n",
       "3202  8.743959  197.749325  40843.616551     6.368862  310.677200   \n",
       "2474  4.964070  168.283365  17694.574833     9.725321  333.639511   \n",
       "1972  5.892413  139.362253  11006.048507     5.311990  339.327905   \n",
       "1937  6.281904  160.306685  17095.270070     6.730577  305.094000   \n",
       "1639  6.758852  218.153477  22540.775167     7.196435  304.680599   \n",
       "2035  5.763773  183.073629  22025.696606     8.952896         NaN   \n",
       "3219  6.417716  209.702425  31974.481631     7.263425  321.382124   \n",
       "1840       NaN  240.984187  11429.201199     5.515977  267.680826   \n",
       "2711  7.650683  239.490148  15326.925014     8.927896  373.436312   \n",
       "903   8.285395  196.552068  19096.822369     7.357857  342.936881   \n",
       "\n",
       "      Conductivity  Organic_carbon  Trihalomethanes  Turbidity  \n",
       "3202    326.253326       12.503203        66.421884   4.118973  \n",
       "2474    353.069939       17.293732        67.252514   4.761701  \n",
       "1972    446.494394       10.567071        89.692883   3.311813  \n",
       "1937    424.446185       14.374967        41.279830   4.457730  \n",
       "1639    382.502700       18.838735        53.815435   3.639972  \n",
       "2035    376.581389       10.547398        63.299757   3.253200  \n",
       "3219    289.450118       11.369071              NaN   4.210327  \n",
       "1840    323.157517        8.666283        88.679265   3.802427  \n",
       "2711    425.336352       17.883592              NaN   4.043711  \n",
       "903     388.941163       14.151473        73.187013   5.438488  "
      ]
     },
     "execution_count": 81,
     "metadata": {},
     "output_type": "execute_result"
    }
   ],
   "source": [
    "X_test.head(10)"
   ]
  },
  {
   "cell_type": "code",
   "execution_count": 82,
   "metadata": {},
   "outputs": [
    {
     "data": {
      "text/html": [
       "<div>\n",
       "<style scoped>\n",
       "    .dataframe tbody tr th:only-of-type {\n",
       "        vertical-align: middle;\n",
       "    }\n",
       "\n",
       "    .dataframe tbody tr th {\n",
       "        vertical-align: top;\n",
       "    }\n",
       "\n",
       "    .dataframe thead th {\n",
       "        text-align: right;\n",
       "    }\n",
       "</style>\n",
       "<table border=\"1\" class=\"dataframe\">\n",
       "  <thead>\n",
       "    <tr style=\"text-align: right;\">\n",
       "      <th></th>\n",
       "      <th>ph</th>\n",
       "      <th>Hardness</th>\n",
       "      <th>Solids</th>\n",
       "      <th>Chloramines</th>\n",
       "      <th>Sulfate</th>\n",
       "      <th>Conductivity</th>\n",
       "      <th>Organic_carbon</th>\n",
       "      <th>Trihalomethanes</th>\n",
       "      <th>Turbidity</th>\n",
       "    </tr>\n",
       "  </thead>\n",
       "  <tbody>\n",
       "    <tr>\n",
       "      <th>3202</th>\n",
       "      <td>1.090413</td>\n",
       "      <td>0.049891</td>\n",
       "      <td>2.143178</td>\n",
       "      <td>-0.480226</td>\n",
       "      <td>-0.590539</td>\n",
       "      <td>-1.237483</td>\n",
       "      <td>-0.553787</td>\n",
       "      <td>0.015108</td>\n",
       "      <td>0.187699</td>\n",
       "    </tr>\n",
       "    <tr>\n",
       "      <th>2474</th>\n",
       "      <td>-1.417826</td>\n",
       "      <td>-0.862040</td>\n",
       "      <td>-0.485894</td>\n",
       "      <td>1.638974</td>\n",
       "      <td>0.018067</td>\n",
       "      <td>-0.904054</td>\n",
       "      <td>0.882566</td>\n",
       "      <td>0.067091</td>\n",
       "      <td>1.010200</td>\n",
       "    </tr>\n",
       "    <tr>\n",
       "      <th>1972</th>\n",
       "      <td>-0.801801</td>\n",
       "      <td>-1.757109</td>\n",
       "      <td>-1.245520</td>\n",
       "      <td>-1.147513</td>\n",
       "      <td>0.168835</td>\n",
       "      <td>0.257557</td>\n",
       "      <td>-1.134302</td>\n",
       "      <td>1.471467</td>\n",
       "      <td>-0.845225</td>\n",
       "    </tr>\n",
       "    <tr>\n",
       "      <th>1937</th>\n",
       "      <td>-0.543345</td>\n",
       "      <td>-1.108907</td>\n",
       "      <td>-0.553958</td>\n",
       "      <td>-0.251847</td>\n",
       "      <td>-0.738519</td>\n",
       "      <td>-0.016584</td>\n",
       "      <td>0.007427</td>\n",
       "      <td>-1.558346</td>\n",
       "      <td>0.621207</td>\n",
       "    </tr>\n",
       "    <tr>\n",
       "      <th>1639</th>\n",
       "      <td>-0.226854</td>\n",
       "      <td>0.681372</td>\n",
       "      <td>0.064497</td>\n",
       "      <td>0.042287</td>\n",
       "      <td>-0.749476</td>\n",
       "      <td>-0.538096</td>\n",
       "      <td>1.345807</td>\n",
       "      <td>-0.773836</td>\n",
       "      <td>-0.425280</td>\n",
       "    </tr>\n",
       "    <tr>\n",
       "      <th>2035</th>\n",
       "      <td>-0.887164</td>\n",
       "      <td>-0.404301</td>\n",
       "      <td>0.005998</td>\n",
       "      <td>1.151281</td>\n",
       "      <td>-0.741143</td>\n",
       "      <td>-0.611720</td>\n",
       "      <td>-1.140200</td>\n",
       "      <td>-0.180283</td>\n",
       "      <td>-0.920232</td>\n",
       "    </tr>\n",
       "    <tr>\n",
       "      <th>3219</th>\n",
       "      <td>-0.453223</td>\n",
       "      <td>0.419824</td>\n",
       "      <td>1.135897</td>\n",
       "      <td>0.084583</td>\n",
       "      <td>-0.306810</td>\n",
       "      <td>-1.695083</td>\n",
       "      <td>-0.893837</td>\n",
       "      <td>0.102077</td>\n",
       "      <td>0.304605</td>\n",
       "    </tr>\n",
       "    <tr>\n",
       "      <th>1840</th>\n",
       "      <td>-0.204207</td>\n",
       "      <td>1.387951</td>\n",
       "      <td>-1.197462</td>\n",
       "      <td>-1.018720</td>\n",
       "      <td>-1.730138</td>\n",
       "      <td>-1.275975</td>\n",
       "      <td>-1.704219</td>\n",
       "      <td>1.408032</td>\n",
       "      <td>-0.217386</td>\n",
       "    </tr>\n",
       "    <tr>\n",
       "      <th>2711</th>\n",
       "      <td>0.364943</td>\n",
       "      <td>1.341713</td>\n",
       "      <td>-0.754792</td>\n",
       "      <td>1.135496</td>\n",
       "      <td>1.072862</td>\n",
       "      <td>-0.005516</td>\n",
       "      <td>1.059425</td>\n",
       "      <td>1.019450</td>\n",
       "      <td>0.091386</td>\n",
       "    </tr>\n",
       "    <tr>\n",
       "      <th>903</th>\n",
       "      <td>0.786122</td>\n",
       "      <td>0.012838</td>\n",
       "      <td>-0.326638</td>\n",
       "      <td>0.144205</td>\n",
       "      <td>0.264489</td>\n",
       "      <td>-0.458042</td>\n",
       "      <td>-0.059584</td>\n",
       "      <td>0.438487</td>\n",
       "      <td>1.876286</td>\n",
       "    </tr>\n",
       "  </tbody>\n",
       "</table>\n",
       "</div>"
      ],
      "text/plain": [
       "            ph  Hardness    Solids  Chloramines   Sulfate  Conductivity  \\\n",
       "3202  1.090413  0.049891  2.143178    -0.480226 -0.590539     -1.237483   \n",
       "2474 -1.417826 -0.862040 -0.485894     1.638974  0.018067     -0.904054   \n",
       "1972 -0.801801 -1.757109 -1.245520    -1.147513  0.168835      0.257557   \n",
       "1937 -0.543345 -1.108907 -0.553958    -0.251847 -0.738519     -0.016584   \n",
       "1639 -0.226854  0.681372  0.064497     0.042287 -0.749476     -0.538096   \n",
       "2035 -0.887164 -0.404301  0.005998     1.151281 -0.741143     -0.611720   \n",
       "3219 -0.453223  0.419824  1.135897     0.084583 -0.306810     -1.695083   \n",
       "1840 -0.204207  1.387951 -1.197462    -1.018720 -1.730138     -1.275975   \n",
       "2711  0.364943  1.341713 -0.754792     1.135496  1.072862     -0.005516   \n",
       "903   0.786122  0.012838 -0.326638     0.144205  0.264489     -0.458042   \n",
       "\n",
       "      Organic_carbon  Trihalomethanes  Turbidity  \n",
       "3202       -0.553787         0.015108   0.187699  \n",
       "2474        0.882566         0.067091   1.010200  \n",
       "1972       -1.134302         1.471467  -0.845225  \n",
       "1937        0.007427        -1.558346   0.621207  \n",
       "1639        1.345807        -0.773836  -0.425280  \n",
       "2035       -1.140200        -0.180283  -0.920232  \n",
       "3219       -0.893837         0.102077   0.304605  \n",
       "1840       -1.704219         1.408032  -0.217386  \n",
       "2711        1.059425         1.019450   0.091386  \n",
       "903        -0.059584         0.438487   1.876286  "
      ]
     },
     "execution_count": 82,
     "metadata": {},
     "output_type": "execute_result"
    }
   ],
   "source": [
    "X_test_clean = transformTestData(data = X_test,\n",
    "                                 imputer_num = imputer_num,\n",
    "                                 scaler = scaler)\n",
    "\n",
    "X_test_clean.head(10)"
   ]
  },
  {
   "cell_type": "code",
   "execution_count": null,
   "metadata": {},
   "outputs": [],
   "source": []
  },
  {
   "cell_type": "code",
   "execution_count": null,
   "metadata": {},
   "outputs": [],
   "source": []
  }
 ],
 "metadata": {
  "interpreter": {
   "hash": "37eb40c3388cfde35488e2d005b0d69ca91ddeff8a429754d4da636d3f888e5e"
  },
  "kernelspec": {
   "display_name": "Python 3.8.12 ('base')",
   "language": "python",
   "name": "python3"
  },
  "language_info": {
   "codemirror_mode": {
    "name": "ipython",
    "version": 3
   },
   "file_extension": ".py",
   "mimetype": "text/x-python",
   "name": "python",
   "nbconvert_exporter": "python",
   "pygments_lexer": "ipython3",
   "version": "3.8.12"
  },
  "orig_nbformat": 4
 },
 "nbformat": 4,
 "nbformat_minor": 2
}
