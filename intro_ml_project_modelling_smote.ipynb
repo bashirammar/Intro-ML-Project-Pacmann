{
 "cells": [
  {
   "cell_type": "code",
   "execution_count": 2,
   "metadata": {},
   "outputs": [],
   "source": [
    "import pandas as pd\n",
    "from scipy.io import loadmat\n",
    "import numpy as np\n",
    "\n",
    "\n",
    "# Visualizations Libraries\n",
    "import matplotlib.pyplot as plt"
   ]
  },
  {
   "cell_type": "code",
   "execution_count": 3,
   "metadata": {},
   "outputs": [],
   "source": [
    "water_df = pd.read_csv(\"water_potability.csv\")"
   ]
  },
  {
   "cell_type": "code",
   "execution_count": 4,
   "metadata": {},
   "outputs": [
    {
     "name": "stdout",
     "output_type": "stream",
     "text": [
      "<class 'pandas.core.frame.DataFrame'>\n",
      "RangeIndex: 3276 entries, 0 to 3275\n",
      "Data columns (total 10 columns):\n",
      " #   Column           Non-Null Count  Dtype  \n",
      "---  ------           --------------  -----  \n",
      " 0   ph               2785 non-null   float64\n",
      " 1   Hardness         3276 non-null   float64\n",
      " 2   Solids           3276 non-null   float64\n",
      " 3   Chloramines      3276 non-null   float64\n",
      " 4   Sulfate          2495 non-null   float64\n",
      " 5   Conductivity     3276 non-null   float64\n",
      " 6   Organic_carbon   3276 non-null   float64\n",
      " 7   Trihalomethanes  3114 non-null   float64\n",
      " 8   Turbidity        3276 non-null   float64\n",
      " 9   Potability       3276 non-null   int64  \n",
      "dtypes: float64(9), int64(1)\n",
      "memory usage: 256.1 KB\n"
     ]
    }
   ],
   "source": [
    "water_df.info()"
   ]
  },
  {
   "cell_type": "code",
   "execution_count": 5,
   "metadata": {},
   "outputs": [
    {
     "data": {
      "text/html": [
       "<div>\n",
       "<style scoped>\n",
       "    .dataframe tbody tr th:only-of-type {\n",
       "        vertical-align: middle;\n",
       "    }\n",
       "\n",
       "    .dataframe tbody tr th {\n",
       "        vertical-align: top;\n",
       "    }\n",
       "\n",
       "    .dataframe thead th {\n",
       "        text-align: right;\n",
       "    }\n",
       "</style>\n",
       "<table border=\"1\" class=\"dataframe\">\n",
       "  <thead>\n",
       "    <tr style=\"text-align: right;\">\n",
       "      <th></th>\n",
       "      <th>ph</th>\n",
       "      <th>Hardness</th>\n",
       "      <th>Solids</th>\n",
       "      <th>Chloramines</th>\n",
       "      <th>Sulfate</th>\n",
       "      <th>Conductivity</th>\n",
       "      <th>Organic_carbon</th>\n",
       "      <th>Trihalomethanes</th>\n",
       "      <th>Turbidity</th>\n",
       "      <th>Potability</th>\n",
       "    </tr>\n",
       "  </thead>\n",
       "  <tbody>\n",
       "    <tr>\n",
       "      <th>0</th>\n",
       "      <td>NaN</td>\n",
       "      <td>204.890455</td>\n",
       "      <td>20791.318981</td>\n",
       "      <td>7.300212</td>\n",
       "      <td>368.516441</td>\n",
       "      <td>564.308654</td>\n",
       "      <td>10.379783</td>\n",
       "      <td>86.990970</td>\n",
       "      <td>2.963135</td>\n",
       "      <td>0</td>\n",
       "    </tr>\n",
       "    <tr>\n",
       "      <th>1</th>\n",
       "      <td>3.716080</td>\n",
       "      <td>129.422921</td>\n",
       "      <td>18630.057858</td>\n",
       "      <td>6.635246</td>\n",
       "      <td>NaN</td>\n",
       "      <td>592.885359</td>\n",
       "      <td>15.180013</td>\n",
       "      <td>56.329076</td>\n",
       "      <td>4.500656</td>\n",
       "      <td>0</td>\n",
       "    </tr>\n",
       "    <tr>\n",
       "      <th>2</th>\n",
       "      <td>8.099124</td>\n",
       "      <td>224.236259</td>\n",
       "      <td>19909.541732</td>\n",
       "      <td>9.275884</td>\n",
       "      <td>NaN</td>\n",
       "      <td>418.606213</td>\n",
       "      <td>16.868637</td>\n",
       "      <td>66.420093</td>\n",
       "      <td>3.055934</td>\n",
       "      <td>0</td>\n",
       "    </tr>\n",
       "    <tr>\n",
       "      <th>3</th>\n",
       "      <td>8.316766</td>\n",
       "      <td>214.373394</td>\n",
       "      <td>22018.417441</td>\n",
       "      <td>8.059332</td>\n",
       "      <td>356.886136</td>\n",
       "      <td>363.266516</td>\n",
       "      <td>18.436524</td>\n",
       "      <td>100.341674</td>\n",
       "      <td>4.628771</td>\n",
       "      <td>0</td>\n",
       "    </tr>\n",
       "    <tr>\n",
       "      <th>4</th>\n",
       "      <td>9.092223</td>\n",
       "      <td>181.101509</td>\n",
       "      <td>17978.986339</td>\n",
       "      <td>6.546600</td>\n",
       "      <td>310.135738</td>\n",
       "      <td>398.410813</td>\n",
       "      <td>11.558279</td>\n",
       "      <td>31.997993</td>\n",
       "      <td>4.075075</td>\n",
       "      <td>0</td>\n",
       "    </tr>\n",
       "    <tr>\n",
       "      <th>...</th>\n",
       "      <td>...</td>\n",
       "      <td>...</td>\n",
       "      <td>...</td>\n",
       "      <td>...</td>\n",
       "      <td>...</td>\n",
       "      <td>...</td>\n",
       "      <td>...</td>\n",
       "      <td>...</td>\n",
       "      <td>...</td>\n",
       "      <td>...</td>\n",
       "    </tr>\n",
       "    <tr>\n",
       "      <th>3271</th>\n",
       "      <td>4.668102</td>\n",
       "      <td>193.681735</td>\n",
       "      <td>47580.991603</td>\n",
       "      <td>7.166639</td>\n",
       "      <td>359.948574</td>\n",
       "      <td>526.424171</td>\n",
       "      <td>13.894419</td>\n",
       "      <td>66.687695</td>\n",
       "      <td>4.435821</td>\n",
       "      <td>1</td>\n",
       "    </tr>\n",
       "    <tr>\n",
       "      <th>3272</th>\n",
       "      <td>7.808856</td>\n",
       "      <td>193.553212</td>\n",
       "      <td>17329.802160</td>\n",
       "      <td>8.061362</td>\n",
       "      <td>NaN</td>\n",
       "      <td>392.449580</td>\n",
       "      <td>19.903225</td>\n",
       "      <td>NaN</td>\n",
       "      <td>2.798243</td>\n",
       "      <td>1</td>\n",
       "    </tr>\n",
       "    <tr>\n",
       "      <th>3273</th>\n",
       "      <td>9.419510</td>\n",
       "      <td>175.762646</td>\n",
       "      <td>33155.578218</td>\n",
       "      <td>7.350233</td>\n",
       "      <td>NaN</td>\n",
       "      <td>432.044783</td>\n",
       "      <td>11.039070</td>\n",
       "      <td>69.845400</td>\n",
       "      <td>3.298875</td>\n",
       "      <td>1</td>\n",
       "    </tr>\n",
       "    <tr>\n",
       "      <th>3274</th>\n",
       "      <td>5.126763</td>\n",
       "      <td>230.603758</td>\n",
       "      <td>11983.869376</td>\n",
       "      <td>6.303357</td>\n",
       "      <td>NaN</td>\n",
       "      <td>402.883113</td>\n",
       "      <td>11.168946</td>\n",
       "      <td>77.488213</td>\n",
       "      <td>4.708658</td>\n",
       "      <td>1</td>\n",
       "    </tr>\n",
       "    <tr>\n",
       "      <th>3275</th>\n",
       "      <td>7.874671</td>\n",
       "      <td>195.102299</td>\n",
       "      <td>17404.177061</td>\n",
       "      <td>7.509306</td>\n",
       "      <td>NaN</td>\n",
       "      <td>327.459760</td>\n",
       "      <td>16.140368</td>\n",
       "      <td>78.698446</td>\n",
       "      <td>2.309149</td>\n",
       "      <td>1</td>\n",
       "    </tr>\n",
       "  </tbody>\n",
       "</table>\n",
       "<p>3276 rows × 10 columns</p>\n",
       "</div>"
      ],
      "text/plain": [
       "            ph    Hardness        Solids  Chloramines     Sulfate  \\\n",
       "0          NaN  204.890455  20791.318981     7.300212  368.516441   \n",
       "1     3.716080  129.422921  18630.057858     6.635246         NaN   \n",
       "2     8.099124  224.236259  19909.541732     9.275884         NaN   \n",
       "3     8.316766  214.373394  22018.417441     8.059332  356.886136   \n",
       "4     9.092223  181.101509  17978.986339     6.546600  310.135738   \n",
       "...        ...         ...           ...          ...         ...   \n",
       "3271  4.668102  193.681735  47580.991603     7.166639  359.948574   \n",
       "3272  7.808856  193.553212  17329.802160     8.061362         NaN   \n",
       "3273  9.419510  175.762646  33155.578218     7.350233         NaN   \n",
       "3274  5.126763  230.603758  11983.869376     6.303357         NaN   \n",
       "3275  7.874671  195.102299  17404.177061     7.509306         NaN   \n",
       "\n",
       "      Conductivity  Organic_carbon  Trihalomethanes  Turbidity  Potability  \n",
       "0       564.308654       10.379783        86.990970   2.963135           0  \n",
       "1       592.885359       15.180013        56.329076   4.500656           0  \n",
       "2       418.606213       16.868637        66.420093   3.055934           0  \n",
       "3       363.266516       18.436524       100.341674   4.628771           0  \n",
       "4       398.410813       11.558279        31.997993   4.075075           0  \n",
       "...            ...             ...              ...        ...         ...  \n",
       "3271    526.424171       13.894419        66.687695   4.435821           1  \n",
       "3272    392.449580       19.903225              NaN   2.798243           1  \n",
       "3273    432.044783       11.039070        69.845400   3.298875           1  \n",
       "3274    402.883113       11.168946        77.488213   4.708658           1  \n",
       "3275    327.459760       16.140368        78.698446   2.309149           1  \n",
       "\n",
       "[3276 rows x 10 columns]"
      ]
     },
     "execution_count": 5,
     "metadata": {},
     "output_type": "execute_result"
    }
   ],
   "source": [
    "water_df"
   ]
  },
  {
   "cell_type": "code",
   "execution_count": 6,
   "metadata": {},
   "outputs": [
    {
     "data": {
      "text/html": [
       "<div>\n",
       "<style scoped>\n",
       "    .dataframe tbody tr th:only-of-type {\n",
       "        vertical-align: middle;\n",
       "    }\n",
       "\n",
       "    .dataframe tbody tr th {\n",
       "        vertical-align: top;\n",
       "    }\n",
       "\n",
       "    .dataframe thead th {\n",
       "        text-align: right;\n",
       "    }\n",
       "</style>\n",
       "<table border=\"1\" class=\"dataframe\">\n",
       "  <thead>\n",
       "    <tr style=\"text-align: right;\">\n",
       "      <th></th>\n",
       "      <th>count</th>\n",
       "      <th>mean</th>\n",
       "      <th>std</th>\n",
       "      <th>min</th>\n",
       "      <th>25%</th>\n",
       "      <th>50%</th>\n",
       "      <th>75%</th>\n",
       "      <th>max</th>\n",
       "    </tr>\n",
       "  </thead>\n",
       "  <tbody>\n",
       "    <tr>\n",
       "      <th>ph</th>\n",
       "      <td>2785.0</td>\n",
       "      <td>7.080795</td>\n",
       "      <td>1.594320</td>\n",
       "      <td>0.000000</td>\n",
       "      <td>6.093092</td>\n",
       "      <td>7.036752</td>\n",
       "      <td>8.062066</td>\n",
       "      <td>14.000000</td>\n",
       "    </tr>\n",
       "    <tr>\n",
       "      <th>Hardness</th>\n",
       "      <td>3276.0</td>\n",
       "      <td>196.369496</td>\n",
       "      <td>32.879761</td>\n",
       "      <td>47.432000</td>\n",
       "      <td>176.850538</td>\n",
       "      <td>196.967627</td>\n",
       "      <td>216.667456</td>\n",
       "      <td>323.124000</td>\n",
       "    </tr>\n",
       "    <tr>\n",
       "      <th>Solids</th>\n",
       "      <td>3276.0</td>\n",
       "      <td>22014.092526</td>\n",
       "      <td>8768.570828</td>\n",
       "      <td>320.942611</td>\n",
       "      <td>15666.690297</td>\n",
       "      <td>20927.833607</td>\n",
       "      <td>27332.762127</td>\n",
       "      <td>61227.196008</td>\n",
       "    </tr>\n",
       "    <tr>\n",
       "      <th>Chloramines</th>\n",
       "      <td>3276.0</td>\n",
       "      <td>7.122277</td>\n",
       "      <td>1.583085</td>\n",
       "      <td>0.352000</td>\n",
       "      <td>6.127421</td>\n",
       "      <td>7.130299</td>\n",
       "      <td>8.114887</td>\n",
       "      <td>13.127000</td>\n",
       "    </tr>\n",
       "    <tr>\n",
       "      <th>Sulfate</th>\n",
       "      <td>2495.0</td>\n",
       "      <td>333.775777</td>\n",
       "      <td>41.416840</td>\n",
       "      <td>129.000000</td>\n",
       "      <td>307.699498</td>\n",
       "      <td>333.073546</td>\n",
       "      <td>359.950170</td>\n",
       "      <td>481.030642</td>\n",
       "    </tr>\n",
       "    <tr>\n",
       "      <th>Conductivity</th>\n",
       "      <td>3276.0</td>\n",
       "      <td>426.205111</td>\n",
       "      <td>80.824064</td>\n",
       "      <td>181.483754</td>\n",
       "      <td>365.734414</td>\n",
       "      <td>421.884968</td>\n",
       "      <td>481.792304</td>\n",
       "      <td>753.342620</td>\n",
       "    </tr>\n",
       "    <tr>\n",
       "      <th>Organic_carbon</th>\n",
       "      <td>3276.0</td>\n",
       "      <td>14.284970</td>\n",
       "      <td>3.308162</td>\n",
       "      <td>2.200000</td>\n",
       "      <td>12.065801</td>\n",
       "      <td>14.218338</td>\n",
       "      <td>16.557652</td>\n",
       "      <td>28.300000</td>\n",
       "    </tr>\n",
       "    <tr>\n",
       "      <th>Trihalomethanes</th>\n",
       "      <td>3114.0</td>\n",
       "      <td>66.396293</td>\n",
       "      <td>16.175008</td>\n",
       "      <td>0.738000</td>\n",
       "      <td>55.844536</td>\n",
       "      <td>66.622485</td>\n",
       "      <td>77.337473</td>\n",
       "      <td>124.000000</td>\n",
       "    </tr>\n",
       "    <tr>\n",
       "      <th>Turbidity</th>\n",
       "      <td>3276.0</td>\n",
       "      <td>3.966786</td>\n",
       "      <td>0.780382</td>\n",
       "      <td>1.450000</td>\n",
       "      <td>3.439711</td>\n",
       "      <td>3.955028</td>\n",
       "      <td>4.500320</td>\n",
       "      <td>6.739000</td>\n",
       "    </tr>\n",
       "    <tr>\n",
       "      <th>Potability</th>\n",
       "      <td>3276.0</td>\n",
       "      <td>0.390110</td>\n",
       "      <td>0.487849</td>\n",
       "      <td>0.000000</td>\n",
       "      <td>0.000000</td>\n",
       "      <td>0.000000</td>\n",
       "      <td>1.000000</td>\n",
       "      <td>1.000000</td>\n",
       "    </tr>\n",
       "  </tbody>\n",
       "</table>\n",
       "</div>"
      ],
      "text/plain": [
       "                  count          mean          std         min           25%  \\\n",
       "ph               2785.0      7.080795     1.594320    0.000000      6.093092   \n",
       "Hardness         3276.0    196.369496    32.879761   47.432000    176.850538   \n",
       "Solids           3276.0  22014.092526  8768.570828  320.942611  15666.690297   \n",
       "Chloramines      3276.0      7.122277     1.583085    0.352000      6.127421   \n",
       "Sulfate          2495.0    333.775777    41.416840  129.000000    307.699498   \n",
       "Conductivity     3276.0    426.205111    80.824064  181.483754    365.734414   \n",
       "Organic_carbon   3276.0     14.284970     3.308162    2.200000     12.065801   \n",
       "Trihalomethanes  3114.0     66.396293    16.175008    0.738000     55.844536   \n",
       "Turbidity        3276.0      3.966786     0.780382    1.450000      3.439711   \n",
       "Potability       3276.0      0.390110     0.487849    0.000000      0.000000   \n",
       "\n",
       "                          50%           75%           max  \n",
       "ph                   7.036752      8.062066     14.000000  \n",
       "Hardness           196.967627    216.667456    323.124000  \n",
       "Solids           20927.833607  27332.762127  61227.196008  \n",
       "Chloramines          7.130299      8.114887     13.127000  \n",
       "Sulfate            333.073546    359.950170    481.030642  \n",
       "Conductivity       421.884968    481.792304    753.342620  \n",
       "Organic_carbon      14.218338     16.557652     28.300000  \n",
       "Trihalomethanes     66.622485     77.337473    124.000000  \n",
       "Turbidity            3.955028      4.500320      6.739000  \n",
       "Potability           0.000000      1.000000      1.000000  "
      ]
     },
     "execution_count": 6,
     "metadata": {},
     "output_type": "execute_result"
    }
   ],
   "source": [
    "water_df.describe().T"
   ]
  },
  {
   "cell_type": "markdown",
   "metadata": {},
   "source": [
    "# Split data"
   ]
  },
  {
   "cell_type": "code",
   "execution_count": 7,
   "metadata": {},
   "outputs": [],
   "source": [
    "from sklearn.model_selection import train_test_split\n",
    "\n",
    "# Buat input & output\n",
    "def split_input_output(data, target_column):\n",
    "    X = data.drop(columns = target_column)\n",
    "    y = data[target_column]\n",
    "\n",
    "    return X, y\n",
    "\n",
    "X, y = split_input_output(data = water_df,\n",
    "                          target_column = \"Potability\")\n",
    "\n",
    "X_train, X_test, y_train, y_test = train_test_split(X,\n",
    "                                                    y,\n",
    "                                                    test_size = 0.2,\n",
    "                                                    stratify = y,\n",
    "                                                    random_state = 123)"
   ]
  },
  {
   "cell_type": "markdown",
   "metadata": {},
   "source": [
    "CHeck distribution again"
   ]
  },
  {
   "cell_type": "code",
   "execution_count": 8,
   "metadata": {},
   "outputs": [
    {
     "data": {
      "text/plain": [
       "array([[<AxesSubplot:title={'center':'ph'}>,\n",
       "        <AxesSubplot:title={'center':'Hardness'}>,\n",
       "        <AxesSubplot:title={'center':'Solids'}>],\n",
       "       [<AxesSubplot:title={'center':'Chloramines'}>,\n",
       "        <AxesSubplot:title={'center':'Sulfate'}>,\n",
       "        <AxesSubplot:title={'center':'Conductivity'}>],\n",
       "       [<AxesSubplot:title={'center':'Organic_carbon'}>,\n",
       "        <AxesSubplot:title={'center':'Trihalomethanes'}>,\n",
       "        <AxesSubplot:title={'center':'Turbidity'}>]], dtype=object)"
      ]
     },
     "execution_count": 8,
     "metadata": {},
     "output_type": "execute_result"
    },
    {
     "data": {
      "image/png": "[encoded data removed]",
      "text/plain": [
       "<Figure size 864x576 with 9 Axes>"
      ]
     },
     "metadata": {
      "needs_background": "light"
     },
     "output_type": "display_data"
    }
   ],
   "source": [
    "X_train.hist(figsize=(12,8))"
   ]
  },
  {
   "cell_type": "markdown",
   "metadata": {},
   "source": [
    "# missing data treatment"
   ]
  },
  {
   "cell_type": "code",
   "execution_count": 9,
   "metadata": {},
   "outputs": [],
   "source": [
    "# Buat imputer untuk data kosong\n",
    "from sklearn.impute import SimpleImputer\n",
    "\n",
    "def imputer(data, imputer = None):\n",
    "    if imputer == None:\n",
    "        # Buat imputer\n",
    "        imputer = SimpleImputer(missing_values = np.nan,\n",
    "                                strategy = \"median\")\n",
    "        imputer.fit(data)\n",
    "\n",
    "    # Transform data dengan imputer\n",
    "    data_imputed = imputer.transform(data)\n",
    "    data_imputed = pd.DataFrame(data_imputed,\n",
    "                                index = data.index,\n",
    "                                columns = data.columns)\n",
    "    \n",
    "    return data_imputed, imputer"
   ]
  },
  {
   "cell_type": "code",
   "execution_count": 10,
   "metadata": {},
   "outputs": [],
   "source": [
    "X_train_imputed, imputer_num = imputer(data = X_train)"
   ]
  },
  {
   "cell_type": "code",
   "execution_count": 11,
   "metadata": {},
   "outputs": [
    {
     "name": "stdout",
     "output_type": "stream",
     "text": [
      "<class 'pandas.core.frame.DataFrame'>\n",
      "Int64Index: 2620 entries, 1318 to 2476\n",
      "Data columns (total 9 columns):\n",
      " #   Column           Non-Null Count  Dtype  \n",
      "---  ------           --------------  -----  \n",
      " 0   ph               2620 non-null   float64\n",
      " 1   Hardness         2620 non-null   float64\n",
      " 2   Solids           2620 non-null   float64\n",
      " 3   Chloramines      2620 non-null   float64\n",
      " 4   Sulfate          2620 non-null   float64\n",
      " 5   Conductivity     2620 non-null   float64\n",
      " 6   Organic_carbon   2620 non-null   float64\n",
      " 7   Trihalomethanes  2620 non-null   float64\n",
      " 8   Turbidity        2620 non-null   float64\n",
      "dtypes: float64(9)\n",
      "memory usage: 204.7 KB\n"
     ]
    }
   ],
   "source": [
    "X_train_imputed.info()"
   ]
  },
  {
   "cell_type": "markdown",
   "metadata": {},
   "source": [
    "# scalling data"
   ]
  },
  {
   "cell_type": "code",
   "execution_count": 12,
   "metadata": {},
   "outputs": [],
   "source": [
    "from sklearn.preprocessing import StandardScaler"
   ]
  },
  {
   "cell_type": "code",
   "execution_count": 13,
   "metadata": {},
   "outputs": [],
   "source": [
    "def standardizeData(data, scaler = None):\n",
    "    if scaler == None:\n",
    "        # Buat & Fit scaler\n",
    "        scaler = StandardScaler()\n",
    "        scaler.fit(data)\n",
    "\n",
    "    # Tranform data\n",
    "    data_scaled = scaler.transform(data)\n",
    "    data_scaled = pd.DataFrame(data_scaled,\n",
    "                               index = data.index,\n",
    "                               columns = data.columns)\n",
    "    \n",
    "    return data_scaled, scaler\n"
   ]
  },
  {
   "cell_type": "code",
   "execution_count": 14,
   "metadata": {},
   "outputs": [
    {
     "data": {
      "text/html": [
       "<div>\n",
       "<style scoped>\n",
       "    .dataframe tbody tr th:only-of-type {\n",
       "        vertical-align: middle;\n",
       "    }\n",
       "\n",
       "    .dataframe tbody tr th {\n",
       "        vertical-align: top;\n",
       "    }\n",
       "\n",
       "    .dataframe thead th {\n",
       "        text-align: right;\n",
       "    }\n",
       "</style>\n",
       "<table border=\"1\" class=\"dataframe\">\n",
       "  <thead>\n",
       "    <tr style=\"text-align: right;\">\n",
       "      <th></th>\n",
       "      <th>ph</th>\n",
       "      <th>Hardness</th>\n",
       "      <th>Solids</th>\n",
       "      <th>Chloramines</th>\n",
       "      <th>Sulfate</th>\n",
       "      <th>Conductivity</th>\n",
       "      <th>Organic_carbon</th>\n",
       "      <th>Trihalomethanes</th>\n",
       "      <th>Turbidity</th>\n",
       "    </tr>\n",
       "  </thead>\n",
       "  <tbody>\n",
       "    <tr>\n",
       "      <th>1318</th>\n",
       "      <td>-0.250919</td>\n",
       "      <td>0.836794</td>\n",
       "      <td>2.223633</td>\n",
       "      <td>0.388450</td>\n",
       "      <td>-1.731532</td>\n",
       "      <td>0.473789</td>\n",
       "      <td>-0.355349</td>\n",
       "      <td>-0.325827</td>\n",
       "      <td>-1.344819</td>\n",
       "    </tr>\n",
       "    <tr>\n",
       "      <th>1979</th>\n",
       "      <td>0.075335</td>\n",
       "      <td>-1.498724</td>\n",
       "      <td>1.741746</td>\n",
       "      <td>-0.916769</td>\n",
       "      <td>-1.508196</td>\n",
       "      <td>-0.370563</td>\n",
       "      <td>-0.307049</td>\n",
       "      <td>-0.163790</td>\n",
       "      <td>-0.113956</td>\n",
       "    </tr>\n",
       "    <tr>\n",
       "      <th>1239</th>\n",
       "      <td>-0.192223</td>\n",
       "      <td>0.420849</td>\n",
       "      <td>1.207204</td>\n",
       "      <td>0.185197</td>\n",
       "      <td>0.221352</td>\n",
       "      <td>-1.066187</td>\n",
       "      <td>0.715565</td>\n",
       "      <td>-1.506321</td>\n",
       "      <td>0.550324</td>\n",
       "    </tr>\n",
       "    <tr>\n",
       "      <th>946</th>\n",
       "      <td>-0.798091</td>\n",
       "      <td>-0.294544</td>\n",
       "      <td>2.544378</td>\n",
       "      <td>-0.325337</td>\n",
       "      <td>0.234280</td>\n",
       "      <td>-1.894062</td>\n",
       "      <td>-0.477357</td>\n",
       "      <td>-0.426915</td>\n",
       "      <td>0.322541</td>\n",
       "    </tr>\n",
       "    <tr>\n",
       "      <th>1032</th>\n",
       "      <td>1.098024</td>\n",
       "      <td>-0.918694</td>\n",
       "      <td>0.656343</td>\n",
       "      <td>-1.122932</td>\n",
       "      <td>1.088495</td>\n",
       "      <td>-0.400665</td>\n",
       "      <td>-0.180357</td>\n",
       "      <td>0.555362</td>\n",
       "      <td>0.266522</td>\n",
       "    </tr>\n",
       "  </tbody>\n",
       "</table>\n",
       "</div>"
      ],
      "text/plain": [
       "            ph  Hardness    Solids  Chloramines   Sulfate  Conductivity  \\\n",
       "1318 -0.250919  0.836794  2.223633     0.388450 -1.731532      0.473789   \n",
       "1979  0.075335 -1.498724  1.741746    -0.916769 -1.508196     -0.370563   \n",
       "1239 -0.192223  0.420849  1.207204     0.185197  0.221352     -1.066187   \n",
       "946  -0.798091 -0.294544  2.544378    -0.325337  0.234280     -1.894062   \n",
       "1032  1.098024 -0.918694  0.656343    -1.122932  1.088495     -0.400665   \n",
       "\n",
       "      Organic_carbon  Trihalomethanes  Turbidity  \n",
       "1318       -0.355349        -0.325827  -1.344819  \n",
       "1979       -0.307049        -0.163790  -0.113956  \n",
       "1239        0.715565        -1.506321   0.550324  \n",
       "946        -0.477357        -0.426915   0.322541  \n",
       "1032       -0.180357         0.555362   0.266522  "
      ]
     },
     "execution_count": 14,
     "metadata": {},
     "output_type": "execute_result"
    }
   ],
   "source": [
    "X_train_scaled, scaler = standardizeData(data = X_train_imputed)\n",
    "X_train_scaled.head()"
   ]
  },
  {
   "cell_type": "markdown",
   "metadata": {},
   "source": [
    "# transform X_test data"
   ]
  },
  {
   "cell_type": "code",
   "execution_count": 15,
   "metadata": {},
   "outputs": [],
   "source": [
    "def transformTestData(data, imputer_num, scaler):\n",
    "    \n",
    "    # 1. Handling num\n",
    "    data_imputed, _ = imputer(data = data,\n",
    "                            imputer = imputer_num)\n",
    "                            \n",
    "    \n",
    "    # 2. Scale data\n",
    "    data_clean, _ = standardizeData(data = data_imputed,\n",
    "                                    scaler = scaler)\n",
    "\n",
    "    return data_clean\n"
   ]
  },
  {
   "cell_type": "code",
   "execution_count": 16,
   "metadata": {},
   "outputs": [
    {
     "data": {
      "text/html": [
       "<div>\n",
       "<style scoped>\n",
       "    .dataframe tbody tr th:only-of-type {\n",
       "        vertical-align: middle;\n",
       "    }\n",
       "\n",
       "    .dataframe tbody tr th {\n",
       "        vertical-align: top;\n",
       "    }\n",
       "\n",
       "    .dataframe thead th {\n",
       "        text-align: right;\n",
       "    }\n",
       "</style>\n",
       "<table border=\"1\" class=\"dataframe\">\n",
       "  <thead>\n",
       "    <tr style=\"text-align: right;\">\n",
       "      <th></th>\n",
       "      <th>ph</th>\n",
       "      <th>Hardness</th>\n",
       "      <th>Solids</th>\n",
       "      <th>Chloramines</th>\n",
       "      <th>Sulfate</th>\n",
       "      <th>Conductivity</th>\n",
       "      <th>Organic_carbon</th>\n",
       "      <th>Trihalomethanes</th>\n",
       "      <th>Turbidity</th>\n",
       "    </tr>\n",
       "  </thead>\n",
       "  <tbody>\n",
       "    <tr>\n",
       "      <th>3202</th>\n",
       "      <td>1.130055</td>\n",
       "      <td>0.049891</td>\n",
       "      <td>2.143178</td>\n",
       "      <td>-0.480226</td>\n",
       "      <td>-0.629257</td>\n",
       "      <td>-1.237483</td>\n",
       "      <td>-0.553787</td>\n",
       "      <td>0.012565</td>\n",
       "      <td>0.187699</td>\n",
       "    </tr>\n",
       "    <tr>\n",
       "      <th>2474</th>\n",
       "      <td>-1.454939</td>\n",
       "      <td>-0.862040</td>\n",
       "      <td>-0.485894</td>\n",
       "      <td>1.638974</td>\n",
       "      <td>0.011197</td>\n",
       "      <td>-0.904054</td>\n",
       "      <td>0.882566</td>\n",
       "      <td>0.064974</td>\n",
       "      <td>1.010200</td>\n",
       "    </tr>\n",
       "    <tr>\n",
       "      <th>1972</th>\n",
       "      <td>-0.820063</td>\n",
       "      <td>-1.757109</td>\n",
       "      <td>-1.245520</td>\n",
       "      <td>-1.147513</td>\n",
       "      <td>0.169854</td>\n",
       "      <td>0.257557</td>\n",
       "      <td>-1.134302</td>\n",
       "      <td>1.480883</td>\n",
       "      <td>-0.845225</td>\n",
       "    </tr>\n",
       "    <tr>\n",
       "      <th>1937</th>\n",
       "      <td>-0.553697</td>\n",
       "      <td>-1.108907</td>\n",
       "      <td>-0.553958</td>\n",
       "      <td>-0.251847</td>\n",
       "      <td>-0.784981</td>\n",
       "      <td>-0.016584</td>\n",
       "      <td>0.007427</td>\n",
       "      <td>-1.573811</td>\n",
       "      <td>0.621207</td>\n",
       "    </tr>\n",
       "    <tr>\n",
       "      <th>1639</th>\n",
       "      <td>-0.227522</td>\n",
       "      <td>0.681372</td>\n",
       "      <td>0.064497</td>\n",
       "      <td>0.042287</td>\n",
       "      <td>-0.796511</td>\n",
       "      <td>-0.538096</td>\n",
       "      <td>1.345807</td>\n",
       "      <td>-0.782858</td>\n",
       "      <td>-0.425280</td>\n",
       "    </tr>\n",
       "    <tr>\n",
       "      <th>2035</th>\n",
       "      <td>-0.908037</td>\n",
       "      <td>-0.404301</td>\n",
       "      <td>0.005998</td>\n",
       "      <td>1.151281</td>\n",
       "      <td>-0.009943</td>\n",
       "      <td>-0.611720</td>\n",
       "      <td>-1.140200</td>\n",
       "      <td>-0.184431</td>\n",
       "      <td>-0.920232</td>\n",
       "    </tr>\n",
       "    <tr>\n",
       "      <th>3219</th>\n",
       "      <td>-0.460818</td>\n",
       "      <td>0.419824</td>\n",
       "      <td>1.135897</td>\n",
       "      <td>0.084583</td>\n",
       "      <td>-0.330681</td>\n",
       "      <td>-1.695083</td>\n",
       "      <td>-0.893837</td>\n",
       "      <td>0.004694</td>\n",
       "      <td>0.304605</td>\n",
       "    </tr>\n",
       "    <tr>\n",
       "      <th>1840</th>\n",
       "      <td>-0.035031</td>\n",
       "      <td>1.387951</td>\n",
       "      <td>-1.197462</td>\n",
       "      <td>-1.018720</td>\n",
       "      <td>-1.828491</td>\n",
       "      <td>-1.275975</td>\n",
       "      <td>-1.704219</td>\n",
       "      <td>1.416927</td>\n",
       "      <td>-0.217386</td>\n",
       "    </tr>\n",
       "    <tr>\n",
       "      <th>2711</th>\n",
       "      <td>0.382385</td>\n",
       "      <td>1.341713</td>\n",
       "      <td>-0.754792</td>\n",
       "      <td>1.135496</td>\n",
       "      <td>1.121190</td>\n",
       "      <td>-0.005516</td>\n",
       "      <td>1.059425</td>\n",
       "      <td>0.004694</td>\n",
       "      <td>0.091386</td>\n",
       "    </tr>\n",
       "    <tr>\n",
       "      <th>903</th>\n",
       "      <td>0.816452</td>\n",
       "      <td>0.012838</td>\n",
       "      <td>-0.326638</td>\n",
       "      <td>0.144205</td>\n",
       "      <td>0.270514</td>\n",
       "      <td>-0.458042</td>\n",
       "      <td>-0.059584</td>\n",
       "      <td>0.439420</td>\n",
       "      <td>1.876286</td>\n",
       "    </tr>\n",
       "  </tbody>\n",
       "</table>\n",
       "</div>"
      ],
      "text/plain": [
       "            ph  Hardness    Solids  Chloramines   Sulfate  Conductivity  \\\n",
       "3202  1.130055  0.049891  2.143178    -0.480226 -0.629257     -1.237483   \n",
       "2474 -1.454939 -0.862040 -0.485894     1.638974  0.011197     -0.904054   \n",
       "1972 -0.820063 -1.757109 -1.245520    -1.147513  0.169854      0.257557   \n",
       "1937 -0.553697 -1.108907 -0.553958    -0.251847 -0.784981     -0.016584   \n",
       "1639 -0.227522  0.681372  0.064497     0.042287 -0.796511     -0.538096   \n",
       "2035 -0.908037 -0.404301  0.005998     1.151281 -0.009943     -0.611720   \n",
       "3219 -0.460818  0.419824  1.135897     0.084583 -0.330681     -1.695083   \n",
       "1840 -0.035031  1.387951 -1.197462    -1.018720 -1.828491     -1.275975   \n",
       "2711  0.382385  1.341713 -0.754792     1.135496  1.121190     -0.005516   \n",
       "903   0.816452  0.012838 -0.326638     0.144205  0.270514     -0.458042   \n",
       "\n",
       "      Organic_carbon  Trihalomethanes  Turbidity  \n",
       "3202       -0.553787         0.012565   0.187699  \n",
       "2474        0.882566         0.064974   1.010200  \n",
       "1972       -1.134302         1.480883  -0.845225  \n",
       "1937        0.007427        -1.573811   0.621207  \n",
       "1639        1.345807        -0.782858  -0.425280  \n",
       "2035       -1.140200        -0.184431  -0.920232  \n",
       "3219       -0.893837         0.004694   0.304605  \n",
       "1840       -1.704219         1.416927  -0.217386  \n",
       "2711        1.059425         0.004694   0.091386  \n",
       "903        -0.059584         0.439420   1.876286  "
      ]
     },
     "execution_count": 16,
     "metadata": {},
     "output_type": "execute_result"
    }
   ],
   "source": [
    "X_test_clean = transformTestData(data = X_test,\n",
    "                                 imputer_num = imputer_num,\n",
    "                                 scaler = scaler)\n",
    "\n",
    "X_test_clean.head(10)"
   ]
  },
  {
   "cell_type": "markdown",
   "metadata": {},
   "source": [
    "# imbalance data treatment"
   ]
  },
  {
   "cell_type": "code",
   "execution_count": 17,
   "metadata": {},
   "outputs": [],
   "source": [
    "from imblearn.over_sampling import SMOTE"
   ]
  },
  {
   "cell_type": "code",
   "execution_count": 18,
   "metadata": {},
   "outputs": [],
   "source": [
    "# Buat objek\n",
    "smt  = SMOTE(sampling_strategy = \"minority\",\n",
    "            random_state = 123)\n",
    "\n",
    "# Fit objek\n",
    "X_train_clean, y_train = smt.fit_resample(X_train_scaled, y_train)"
   ]
  },
  {
   "cell_type": "code",
   "execution_count": 19,
   "metadata": {},
   "outputs": [
    {
     "data": {
      "text/plain": [
       "0    0.5\n",
       "1    0.5\n",
       "Name: Potability, dtype: float64"
      ]
     },
     "execution_count": 19,
     "metadata": {},
     "output_type": "execute_result"
    }
   ],
   "source": [
    "y_train.value_counts(normalize = True)"
   ]
  },
  {
   "cell_type": "markdown",
   "metadata": {},
   "source": [
    "# modelling"
   ]
  },
  {
   "cell_type": "markdown",
   "metadata": {},
   "source": [
    "choose baseline score fot out model to beat"
   ]
  },
  {
   "cell_type": "code",
   "execution_count": 20,
   "metadata": {},
   "outputs": [
    {
     "data": {
      "text/plain": [
       "0    0.609756\n",
       "1    0.390244\n",
       "Name: Potability, dtype: float64"
      ]
     },
     "execution_count": 20,
     "metadata": {},
     "output_type": "execute_result"
    }
   ],
   "source": [
    "y_test.value_counts(normalize = True)"
   ]
  },
  {
   "cell_type": "markdown",
   "metadata": {},
   "source": [
    "we need to make out model better than 61% accuracy "
   ]
  },
  {
   "cell_type": "code",
   "execution_count": 21,
   "metadata": {},
   "outputs": [],
   "source": [
    "# Import library\n",
    "from sklearn.linear_model import LogisticRegression"
   ]
  },
  {
   "cell_type": "code",
   "execution_count": 22,
   "metadata": {},
   "outputs": [],
   "source": [
    "# custom scorer for GridSearchCV\n",
    "from sklearn.metrics import precision_score, make_scorer\n",
    "custom_scorer = make_scorer(precision_score, greater_is_better=True,  pos_label=1)"
   ]
  },
  {
   "cell_type": "code",
   "execution_count": 23,
   "metadata": {},
   "outputs": [
    {
     "data": {
      "text/plain": [
       "{'C': 0.01438449888287663, 'penalty': 'l2'}"
      ]
     },
     "execution_count": 23,
     "metadata": {},
     "output_type": "execute_result"
    }
   ],
   "source": [
    "# Buat objek\n",
    "logreg = LogisticRegression( solver = \"liblinear\",\n",
    "                            random_state = 123)\n",
    "# Lakukan eksperimentasi\n",
    "from sklearn.model_selection import GridSearchCV\n",
    "\n",
    "search_params = {\"penalty\": [\"l1\", \"l2\"],\n",
    "                 \"C\": np.logspace(-5, 5, 20)}\n",
    "\n",
    "logreg_cv = GridSearchCV(estimator = logreg,\n",
    "                         param_grid = search_params,\n",
    "                         cv = 5)\n",
    "\n",
    "# Lakukan Fitting Data\n",
    "logreg_cv.fit(X = X_train_clean,\n",
    "              y = y_train)\n",
    "# Best params\n",
    "logreg_cv.best_params_"
   ]
  },
  {
   "cell_type": "code",
   "execution_count": 30,
   "metadata": {},
   "outputs": [],
   "source": [
    "from sklearn.metrics import confusion_matrix, ConfusionMatrixDisplay, classification_report, precision_score"
   ]
  },
  {
   "cell_type": "code",
   "execution_count": 25,
   "metadata": {},
   "outputs": [
    {
     "name": "stdout",
     "output_type": "stream",
     "text": [
      "              precision    recall  f1-score   support\n",
      "\n",
      "           0       0.53      0.54      0.54      1598\n",
      "           1       0.53      0.52      0.53      1598\n",
      "\n",
      "    accuracy                           0.53      3196\n",
      "   macro avg       0.53      0.53      0.53      3196\n",
      "weighted avg       0.53      0.53      0.53      3196\n",
      "\n"
     ]
    },
    {
     "data": {
      "image/png": "[encoded data removed]",
      "text/plain": [
       "<Figure size 432x288 with 2 Axes>"
      ]
     },
     "metadata": {
      "needs_background": "light"
     },
     "output_type": "display_data"
    }
   ],
   "source": [
    "# best model\n",
    "logreg = LogisticRegression(penalty = logreg_cv.best_params_[\"penalty\"],\n",
    "                            C = logreg_cv.best_params_[\"C\"],\n",
    "                            solver = \"liblinear\",\n",
    "                            random_state = 123)\n",
    "\n",
    "#fit train data\n",
    "logreg.fit(X_train_clean, y_train)\n",
    "\n",
    "# predict test data\n",
    "predicted_logreg_train = logreg.predict(X_train_clean)\n",
    "\n",
    "# evaluate\n",
    "print(classification_report(y_train, predicted_logreg_train))\n",
    "\n",
    "cm = confusion_matrix(y_train, predicted_logreg_train)\n",
    "disp = ConfusionMatrixDisplay(cm, display_labels=[\"0\",\"1\"])\n",
    "disp.plot()\n",
    "plt.title(\"Confusion Matrix\")\n",
    "plt.show()"
   ]
  },
  {
   "cell_type": "code",
   "execution_count": 26,
   "metadata": {},
   "outputs": [
    {
     "name": "stdout",
     "output_type": "stream",
     "text": [
      "              precision    recall  f1-score   support\n",
      "\n",
      "           0       0.60      0.54      0.57       400\n",
      "           1       0.38      0.45      0.41       256\n",
      "\n",
      "    accuracy                           0.50       656\n",
      "   macro avg       0.49      0.49      0.49       656\n",
      "weighted avg       0.52      0.50      0.51       656\n",
      "\n"
     ]
    },
    {
     "data": {
      "image/png": "[encoded data removed]",
      "text/plain": [
       "<Figure size 432x288 with 2 Axes>"
      ]
     },
     "metadata": {
      "needs_background": "light"
     },
     "output_type": "display_data"
    }
   ],
   "source": [
    "# predict test data\n",
    "predicted_logreg_test = logreg.predict(X_test_clean)\n",
    "\n",
    "# evaluate\n",
    "print(classification_report(y_test, predicted_logreg_test))\n",
    "\n",
    "cm = confusion_matrix(y_test, predicted_logreg_test)\n",
    "disp = ConfusionMatrixDisplay(cm, display_labels=[\"0\",\"1\"])\n",
    "disp.plot()\n",
    "plt.title(\"Confusion Matrix\")\n",
    "plt.show()\n"
   ]
  },
  {
   "cell_type": "markdown",
   "metadata": {},
   "source": [
    "# knn"
   ]
  },
  {
   "cell_type": "code",
   "execution_count": 27,
   "metadata": {},
   "outputs": [],
   "source": [
    "from sklearn.neighbors import KNeighborsClassifier"
   ]
  },
  {
   "cell_type": "code",
   "execution_count": 28,
   "metadata": {},
   "outputs": [
    {
     "data": {
      "text/plain": [
       "{'algorithm': 'ball_tree', 'n_neighbors': 3, 'p': 2, 'weights': 'distance'}"
      ]
     },
     "execution_count": 28,
     "metadata": {},
     "output_type": "execute_result"
    }
   ],
   "source": [
    "params = {\"n_neighbors\": [3,5,7,9,13,15,17,19],\n",
    "          'weights':['uniform','distance'],\n",
    "          'algorithm':['ball_tree','kd_tree', 'brute'],\n",
    "          'p':[1,2]}\n",
    "\n",
    "# Buat gridsearch\n",
    "knn = KNeighborsClassifier()\n",
    "\n",
    "knn_cv = GridSearchCV(estimator = knn,\n",
    "                       param_grid = params,\n",
    "                       scoring=custom_scorer,\n",
    "                       cv = 5)\n",
    "\n",
    "knn_cv.fit(X = X_train_clean,\n",
    "           y = y_train)\n",
    "\n",
    "knn_cv.best_params_"
   ]
  },
  {
   "cell_type": "code",
   "execution_count": 29,
   "metadata": {},
   "outputs": [
    {
     "name": "stdout",
     "output_type": "stream",
     "text": [
      "              precision    recall  f1-score   support\n",
      "\n",
      "           0       1.00      1.00      1.00      1598\n",
      "           1       1.00      1.00      1.00      1598\n",
      "\n",
      "    accuracy                           1.00      3196\n",
      "   macro avg       1.00      1.00      1.00      3196\n",
      "weighted avg       1.00      1.00      1.00      3196\n",
      "\n"
     ]
    },
    {
     "data": {
      "image/png": "[encoded data removed]",
      "text/plain": [
       "<Figure size 432x288 with 2 Axes>"
      ]
     },
     "metadata": {
      "needs_background": "light"
     },
     "output_type": "display_data"
    }
   ],
   "source": [
    "# best model\n",
    "knn = KNeighborsClassifier(algorithm=knn_cv.best_params_['algorithm'],\n",
    "                           n_neighbors=knn_cv.best_params_['n_neighbors'],\n",
    "                           p=knn_cv.best_params_['p'],\n",
    "                           weights=knn_cv.best_params_['weights'])\n",
    "\n",
    "# fit train data\n",
    "knn.fit(X = X_train_clean,\n",
    "        y = y_train)\n",
    "\n",
    "# predict train data\n",
    "predicted_knn_train = knn.predict(X_train_clean)\n",
    "\n",
    "# evaluate\n",
    "print(classification_report(y_train, predicted_knn_train))\n",
    "\n",
    "cm = confusion_matrix(y_train, predicted_knn_train)\n",
    "disp = ConfusionMatrixDisplay(cm, display_labels=[\"0\",\"1\"])\n",
    "disp.plot()\n",
    "plt.title(\"Confusion Matrix\")\n",
    "plt.show()"
   ]
  },
  {
   "cell_type": "code",
   "execution_count": 30,
   "metadata": {},
   "outputs": [
    {
     "name": "stdout",
     "output_type": "stream",
     "text": [
      "              precision    recall  f1-score   support\n",
      "\n",
      "           0       0.68      0.64      0.66       400\n",
      "           1       0.49      0.54      0.51       256\n",
      "\n",
      "    accuracy                           0.60       656\n",
      "   macro avg       0.58      0.59      0.58       656\n",
      "weighted avg       0.61      0.60      0.60       656\n",
      "\n"
     ]
    },
    {
     "data": {
      "image/png": "[encoded data removed]",
      "text/plain": [
       "<Figure size 432x288 with 2 Axes>"
      ]
     },
     "metadata": {
      "needs_background": "light"
     },
     "output_type": "display_data"
    }
   ],
   "source": [
    "predicted_knn_test = knn.predict(X_test_clean)\n",
    "\n",
    "# evaluate\n",
    "print(classification_report(y_test, predicted_knn_test))\n",
    "\n",
    "cm = confusion_matrix(y_test, predicted_knn_test)\n",
    "disp = ConfusionMatrixDisplay(cm, display_labels=[\"0\",\"1\"])\n",
    "disp.plot()\n",
    "plt.title(\"Confusion Matrix\")\n",
    "plt.show()\n"
   ]
  },
  {
   "cell_type": "markdown",
   "metadata": {},
   "source": [
    "# tree based model"
   ]
  },
  {
   "cell_type": "code",
   "execution_count": 31,
   "metadata": {},
   "outputs": [],
   "source": [
    "from sklearn.tree import DecisionTreeClassifier"
   ]
  },
  {
   "cell_type": "code",
   "execution_count": 32,
   "metadata": {},
   "outputs": [
    {
     "data": {
      "text/plain": [
       "{'criterion': 'entropy', 'max_depth': 11}"
      ]
     },
     "execution_count": 32,
     "metadata": {},
     "output_type": "execute_result"
    }
   ],
   "source": [
    "params = {\"max_depth\": [9,10,11,12,15,20,30,40,50,70,90,100,200],\n",
    "          'criterion':['gini','entropy']}\n",
    "\n",
    "# Buat gridsearch\n",
    "tree_DC = DecisionTreeClassifier(random_state = 123)\n",
    "\n",
    "tree_cv = GridSearchCV(estimator = tree_DC,\n",
    "                       param_grid = params,\n",
    "                       scoring=custom_scorer,\n",
    "                       cv = 5)\n",
    "\n",
    "# Fit grid search cv\n",
    "tree_cv.fit(X_train_clean, y_train)\n",
    "\n",
    "# Best params\n",
    "tree_cv.best_params_"
   ]
  },
  {
   "cell_type": "code",
   "execution_count": 33,
   "metadata": {},
   "outputs": [
    {
     "name": "stdout",
     "output_type": "stream",
     "text": [
      "              precision    recall  f1-score   support\n",
      "\n",
      "           0       0.85      0.80      0.83      1598\n",
      "           1       0.81      0.86      0.84      1598\n",
      "\n",
      "    accuracy                           0.83      3196\n",
      "   macro avg       0.83      0.83      0.83      3196\n",
      "weighted avg       0.83      0.83      0.83      3196\n",
      "\n"
     ]
    },
    {
     "data": {
      "image/png": "[encoded data removed]",
      "text/plain": [
       "<Figure size 432x288 with 2 Axes>"
      ]
     },
     "metadata": {
      "needs_background": "light"
     },
     "output_type": "display_data"
    }
   ],
   "source": [
    "# best model\n",
    "tree_DC = DecisionTreeClassifier(max_depth = tree_cv.best_params_[\"max_depth\"],\n",
    "                             criterion = tree_cv.best_params_[\"criterion\"],\n",
    "                             random_state = 123)\n",
    "\n",
    "#fit\n",
    "tree_DC.fit(X_train_clean, y_train)\n",
    "\n",
    "# Predict\n",
    "predicted_DC_train = tree_DC.predict(X_train_clean)\n",
    "\n",
    "# evaluate\n",
    "print(classification_report(y_train, predicted_DC_train))\n",
    "\n",
    "cm = confusion_matrix(y_train, predicted_DC_train)\n",
    "disp = ConfusionMatrixDisplay(cm, display_labels=[\"0\",\"1\"])\n",
    "disp.plot()\n",
    "plt.title(\"Confusion Matrix\")\n",
    "plt.show()"
   ]
  },
  {
   "cell_type": "code",
   "execution_count": 34,
   "metadata": {},
   "outputs": [
    {
     "name": "stdout",
     "output_type": "stream",
     "text": [
      "              precision    recall  f1-score   support\n",
      "\n",
      "           0       0.68      0.57      0.62       400\n",
      "           1       0.47      0.59      0.52       256\n",
      "\n",
      "    accuracy                           0.58       656\n",
      "   macro avg       0.58      0.58      0.57       656\n",
      "weighted avg       0.60      0.58      0.58       656\n",
      "\n"
     ]
    },
    {
     "data": {
      "image/png": "[encoded data removed]",
      "text/plain": [
       "<Figure size 432x288 with 2 Axes>"
      ]
     },
     "metadata": {
      "needs_background": "light"
     },
     "output_type": "display_data"
    }
   ],
   "source": [
    "# predict test data\n",
    "predicted_DC_test = tree_DC.predict(X_test_clean)\n",
    "\n",
    "# evaluate\n",
    "print(classification_report(y_test, predicted_DC_test))\n",
    "\n",
    "cm = confusion_matrix(y_test, predicted_DC_test)\n",
    "disp = ConfusionMatrixDisplay(cm, display_labels=[\"0\",\"1\"])\n",
    "disp.plot()\n",
    "plt.title(\"Confusion Matrix\")\n",
    "plt.show()\n"
   ]
  },
  {
   "cell_type": "markdown",
   "metadata": {},
   "source": [
    "##### ensemble model"
   ]
  },
  {
   "cell_type": "code",
   "execution_count": 1,
   "metadata": {},
   "outputs": [],
   "source": [
    "from sklearn.ensemble import AdaBoostClassifier, BaggingClassifier, GradientBoostingClassifier"
   ]
  },
  {
   "cell_type": "code",
   "execution_count": 53,
   "metadata": {},
   "outputs": [
    {
     "data": {
      "text/plain": [
       "{'learning_rate': 0.1, 'n_estimators': 400}"
      ]
     },
     "execution_count": 53,
     "metadata": {},
     "output_type": "execute_result"
    }
   ],
   "source": [
    "params = {\"n_estimators\": [60,70,80,100,200,300,400,500], }\n",
    "\n",
    "# Buat objek\n",
    "tree = DecisionTreeClassifier(max_depth = 3)\n",
    "ada_tree = AdaBoostClassifier(base_estimator = tree,\n",
    "                             random_state = 123)\n",
    "\n",
    "# Buat gridsearch\n",
    "ada_tree_cv = GridSearchCV(estimator = ada_tree,\n",
    "                           param_grid = params,\n",
    "                           cv = 5,\n",
    "                           scoring = custom_scorer)\n",
    "\n",
    "# Fit grid search cv\n",
    "ada_tree_cv.fit(X_train_clean, y_train)\n",
    "\n",
    "# Best params\n",
    "ada_tree_cv.best_params_'learning_rate':[0.1,0.3,0.5,0.7,1]"
   ]
  },
  {
   "cell_type": "code",
   "execution_count": 54,
   "metadata": {},
   "outputs": [
    {
     "name": "stdout",
     "output_type": "stream",
     "text": [
      "              precision    recall  f1-score   support\n",
      "\n",
      "           0       0.95      0.94      0.94      1598\n",
      "           1       0.94      0.95      0.94      1598\n",
      "\n",
      "    accuracy                           0.94      3196\n",
      "   macro avg       0.94      0.94      0.94      3196\n",
      "weighted avg       0.94      0.94      0.94      3196\n",
      "\n"
     ]
    },
    {
     "data": {
      "image/png": "[encoded data removed]",
      "text/plain": [
       "<Figure size 432x288 with 2 Axes>"
      ]
     },
     "metadata": {
      "needs_background": "light"
     },
     "output_type": "display_data"
    }
   ],
   "source": [
    "# best model\n",
    "ada_tree = AdaBoostClassifier(n_estimators = ada_tree_cv.best_params_['n_estimators'],\n",
    "                                learning_rate = ada_tree_cv.best_params_['learning_rate'],\n",
    "                                base_estimator = tree,\n",
    "                                random_state = 123)\n",
    "\n",
    "#fit\n",
    "ada_tree.fit(X_train_clean, y_train)\n",
    "\n",
    "# Predict\n",
    "predicted_ada_train = ada_tree.predict(X_train_clean)\n",
    "\n",
    "# evaluate\n",
    "print(classification_report(y_train, predicted_ada_train))\n",
    "\n",
    "cm = confusion_matrix(y_train, predicted_ada_train)\n",
    "disp = ConfusionMatrixDisplay(cm, display_labels=[\"0\",\"1\"])\n",
    "disp.plot()\n",
    "plt.title(\"Confusion Matrix\")\n",
    "plt.show()"
   ]
  },
  {
   "cell_type": "code",
   "execution_count": 55,
   "metadata": {},
   "outputs": [
    {
     "name": "stdout",
     "output_type": "stream",
     "text": [
      "              precision    recall  f1-score   support\n",
      "\n",
      "           0       0.68      0.61      0.65       400\n",
      "           1       0.48      0.55      0.51       256\n",
      "\n",
      "    accuracy                           0.59       656\n",
      "   macro avg       0.58      0.58      0.58       656\n",
      "weighted avg       0.60      0.59      0.60       656\n",
      "\n"
     ]
    },
    {
     "data": {
      "image/png": "[encoded data removed]",
      "text/plain": [
       "<Figure size 432x288 with 2 Axes>"
      ]
     },
     "metadata": {
      "needs_background": "light"
     },
     "output_type": "display_data"
    }
   ],
   "source": [
    "# predict test data\n",
    "predicted_ada_test = ada_tree.predict(X_test_clean)\n",
    "\n",
    "# evaluate\n",
    "print(classification_report(y_test, predicted_ada_test))\n",
    "\n",
    "cm = confusion_matrix(y_test, predicted_ada_test)\n",
    "disp = ConfusionMatrixDisplay(cm, display_labels=[\"0\",\"1\"])\n",
    "disp.plot()\n",
    "plt.title(\"Confusion Matrix\")\n",
    "plt.show()\n"
   ]
  },
  {
   "cell_type": "markdown",
   "metadata": {},
   "source": [
    "#### bagging"
   ]
  },
  {
   "cell_type": "code",
   "execution_count": 50,
   "metadata": {},
   "outputs": [
    {
     "data": {
      "text/plain": [
       "{'n_estimators': 200}"
      ]
     },
     "execution_count": 50,
     "metadata": {},
     "output_type": "execute_result"
    }
   ],
   "source": [
    "params = {\"n_estimators\": [60,70,80,100,200,300,400,500]}\n",
    "\n",
    "# Buat objek\n",
    "tree = DecisionTreeClassifier()\n",
    "bagging_tree = BaggingClassifier(base_estimator = tree,\n",
    "                                  random_state = 123)\n",
    "\n",
    "# Buat gridsearch\n",
    "bagging_cv = GridSearchCV(estimator = bagging_tree,\n",
    "                           param_grid = params,\n",
    "                           cv = 5,\n",
    "                           scoring = custom_scorer)\n",
    "\n",
    "# Fit grid search cv\n",
    "bagging_cv.fit(X_train_clean, y_train)\n",
    "\n",
    "# Best params\n",
    "bagging_cv.best_params_"
   ]
  },
  {
   "cell_type": "code",
   "execution_count": 51,
   "metadata": {},
   "outputs": [
    {
     "name": "stdout",
     "output_type": "stream",
     "text": [
      "              precision    recall  f1-score   support\n",
      "\n",
      "           0       1.00      1.00      1.00      1598\n",
      "           1       1.00      1.00      1.00      1598\n",
      "\n",
      "    accuracy                           1.00      3196\n",
      "   macro avg       1.00      1.00      1.00      3196\n",
      "weighted avg       1.00      1.00      1.00      3196\n",
      "\n"
     ]
    },
    {
     "data": {
      "image/png": "[encoded data removed]",
      "text/plain": [
       "<Figure size 432x288 with 2 Axes>"
      ]
     },
     "metadata": {
      "needs_background": "light"
     },
     "output_type": "display_data"
    }
   ],
   "source": [
    "# best model\n",
    "bagging_tree = BaggingClassifier(n_estimators = bagging_cv.best_params_['n_estimators'],\n",
    "                                  base_estimator = tree,\n",
    "                                  random_state = 123)\n",
    "\n",
    "#fit\n",
    "bagging_tree.fit(X_train_clean, y_train)\n",
    "\n",
    "# Predict\n",
    "predicted_bagging_train = bagging_tree.predict(X_train_clean)\n",
    "\n",
    "# evaluate\n",
    "print(classification_report(y_train, predicted_bagging_train))\n",
    "\n",
    "cm = confusion_matrix(y_train, predicted_bagging_train)\n",
    "disp = ConfusionMatrixDisplay(cm, display_labels=[\"0\",\"1\"])\n",
    "disp.plot()\n",
    "plt.title(\"Confusion Matrix\")\n",
    "plt.show()"
   ]
  },
  {
   "cell_type": "code",
   "execution_count": 52,
   "metadata": {},
   "outputs": [
    {
     "name": "stdout",
     "output_type": "stream",
     "text": [
      "              precision    recall  f1-score   support\n",
      "\n",
      "           0       0.70      0.72      0.71       400\n",
      "           1       0.55      0.52      0.53       256\n",
      "\n",
      "    accuracy                           0.64       656\n",
      "   macro avg       0.62      0.62      0.62       656\n",
      "weighted avg       0.64      0.64      0.64       656\n",
      "\n"
     ]
    },
    {
     "data": {
      "image/png": "[encoded data removed]",
      "text/plain": [
       "<Figure size 432x288 with 2 Axes>"
      ]
     },
     "metadata": {
      "needs_background": "light"
     },
     "output_type": "display_data"
    }
   ],
   "source": [
    "# predict test data\n",
    "predicted_bagging_test = bagging_tree.predict(X_test_clean)\n",
    "\n",
    "# evaluate\n",
    "print(classification_report(y_test, predicted_bagging_test))\n",
    "\n",
    "cm = confusion_matrix(y_test, predicted_bagging_test)\n",
    "disp = ConfusionMatrixDisplay(cm, display_labels=[\"0\",\"1\"])\n",
    "disp.plot()\n",
    "plt.title(\"Confusion Matrix\")\n",
    "plt.show()\n"
   ]
  },
  {
   "cell_type": "markdown",
   "metadata": {},
   "source": [
    "# gradientboosting"
   ]
  },
  {
   "cell_type": "code",
   "execution_count": 27,
   "metadata": {},
   "outputs": [],
   "source": [
    "from sklearn.model_selection import GridSearchCV\n",
    "# custom scorer for GridSearchCV\n",
    "from sklearn.metrics import precision_score, make_scorer\n",
    "custom_scorer = make_scorer(precision_score, greater_is_better=True,  pos_label=1)"
   ]
  },
  {
   "cell_type": "code",
   "execution_count": 28,
   "metadata": {},
   "outputs": [
    {
     "data": {
      "text/plain": [
       "{'criterion': 'friedman_mse', 'learning_rate': 0.1, 'n_estimators': 200}"
      ]
     },
     "execution_count": 28,
     "metadata": {},
     "output_type": "execute_result"
    }
   ],
   "source": [
    "params = {\"n_estimators\": [60,70,80,100,200,300,400,500], 'criterion':['friedman_mse', 'squared_error'], 'learning_rate':[0.1,0.3,0.5,0.7,1]}\n",
    "\n",
    "# Buat objek\n",
    "GD_tree = GradientBoostingClassifier(random_state = 123)\n",
    "\n",
    "# Buat gridsearch\n",
    "GD_cv = GridSearchCV(estimator = GD_tree,\n",
    "                           param_grid = params,\n",
    "                           cv = 5,\n",
    "                           scoring = custom_scorer)\n",
    "\n",
    "# Fit grid search cv\n",
    "GD_cv.fit(X_train_clean, y_train)\n",
    "\n",
    "# Best params\n",
    "GD_cv.best_params_"
   ]
  },
  {
   "cell_type": "code",
   "execution_count": 31,
   "metadata": {},
   "outputs": [
    {
     "name": "stdout",
     "output_type": "stream",
     "text": [
      "              precision    recall  f1-score   support\n",
      "\n",
      "           0       0.82      0.84      0.83      1598\n",
      "           1       0.83      0.82      0.83      1598\n",
      "\n",
      "    accuracy                           0.83      3196\n",
      "   macro avg       0.83      0.83      0.83      3196\n",
      "weighted avg       0.83      0.83      0.83      3196\n",
      "\n"
     ]
    },
    {
     "data": {
      "image/png": "[encoded data removed]",
      "text/plain": [
       "<Figure size 432x288 with 2 Axes>"
      ]
     },
     "metadata": {
      "needs_background": "light"
     },
     "output_type": "display_data"
    }
   ],
   "source": [
    "# best model\n",
    "GD_tree = GradientBoostingClassifier(n_estimators = GD_cv.best_params_['n_estimators'],\n",
    "                                  criterion = GD_cv.best_params_['criterion'],\n",
    "                                  learning_rate = GD_cv.best_params_['learning_rate'],\n",
    "                                  random_state = 123)\n",
    "\n",
    "#fit\n",
    "GD_tree.fit(X_train_clean, y_train)\n",
    "\n",
    "# Predict\n",
    "predicted_GD_train = GD_tree.predict(X_train_clean)\n",
    "\n",
    "# evaluate\n",
    "print(classification_report(y_train, predicted_GD_train))\n",
    "\n",
    "cm = confusion_matrix(y_train, predicted_GD_train)\n",
    "disp = ConfusionMatrixDisplay(cm, display_labels=[\"0\",\"1\"])\n",
    "disp.plot()\n",
    "plt.title(\"Confusion Matrix\")\n",
    "plt.show()"
   ]
  },
  {
   "cell_type": "code",
   "execution_count": 32,
   "metadata": {},
   "outputs": [
    {
     "name": "stdout",
     "output_type": "stream",
     "text": [
      "              precision    recall  f1-score   support\n",
      "\n",
      "           0       0.70      0.65      0.67       400\n",
      "           1       0.51      0.57      0.54       256\n",
      "\n",
      "    accuracy                           0.62       656\n",
      "   macro avg       0.61      0.61      0.61       656\n",
      "weighted avg       0.63      0.62      0.62       656\n",
      "\n"
     ]
    },
    {
     "data": {
      "image/png": "[encoded data removed]",
      "text/plain": [
       "<Figure size 432x288 with 2 Axes>"
      ]
     },
     "metadata": {
      "needs_background": "light"
     },
     "output_type": "display_data"
    }
   ],
   "source": [
    "# predict test data\n",
    "predicted_GD_test = GD_tree.predict(X_test_clean)\n",
    "\n",
    "# evaluate\n",
    "print(classification_report(y_test, predicted_GD_test))\n",
    "\n",
    "cm = confusion_matrix(y_test, predicted_GD_test)\n",
    "disp = ConfusionMatrixDisplay(cm, display_labels=[\"0\",\"1\"])\n",
    "disp.plot()\n",
    "plt.title(\"Confusion Matrix\")\n",
    "plt.show()\n"
   ]
  },
  {
   "cell_type": "markdown",
   "metadata": {},
   "source": [
    "#### Random Forest"
   ]
  },
  {
   "cell_type": "code",
   "execution_count": 42,
   "metadata": {},
   "outputs": [],
   "source": [
    "from sklearn.ensemble import RandomForestClassifier"
   ]
  },
  {
   "cell_type": "code",
   "execution_count": 43,
   "metadata": {},
   "outputs": [
    {
     "data": {
      "text/plain": [
       "{'criterion': 'entropy',\n",
       " 'max_features': 'sqrt',\n",
       " 'min_samples_leaf': 2,\n",
       " 'n_estimators': 300}"
      ]
     },
     "execution_count": 43,
     "metadata": {},
     "output_type": "execute_result"
    }
   ],
   "source": [
    "params_rf = {'n_estimators':[60,70,80,100,200,300,400,500], 'min_samples_leaf':[2, 10, 30], 'max_features':[\"sqrt\", \"log2\"], \n",
    "            \"criterion\":['gini', 'entropy']}\n",
    "\n",
    "# Buat objek\n",
    "rf = RandomForestClassifier(random_state = 123)\n",
    "\n",
    "# Buat gridsearch\n",
    "grid_rf = GridSearchCV(rf, param_grid=params_rf, \n",
    "                       cv=5, scoring=custom_scorer)\n",
    "\n",
    "# Fit grid search cv\n",
    "grid_rf.fit(X_train_clean, y_train)\n",
    "\n",
    "# Best params\n",
    "grid_rf.best_params_"
   ]
  },
  {
   "cell_type": "code",
   "execution_count": 44,
   "metadata": {},
   "outputs": [
    {
     "name": "stdout",
     "output_type": "stream",
     "text": [
      "              precision    recall  f1-score   support\n",
      "\n",
      "           0       1.00      1.00      1.00      1598\n",
      "           1       1.00      1.00      1.00      1598\n",
      "\n",
      "    accuracy                           1.00      3196\n",
      "   macro avg       1.00      1.00      1.00      3196\n",
      "weighted avg       1.00      1.00      1.00      3196\n",
      "\n"
     ]
    },
    {
     "data": {
      "image/png": "[encoded data removed]",
      "text/plain": [
       "<Figure size 432x288 with 2 Axes>"
      ]
     },
     "metadata": {
      "needs_background": "light"
     },
     "output_type": "display_data"
    }
   ],
   "source": [
    "# best model\n",
    "rf_tree = RandomForestClassifier(n_estimators = grid_rf.best_params_['n_estimators'],\n",
    "                                criterion = grid_rf.best_params_['criterion'],\n",
    "                                max_features = grid_rf.best_params_['max_features'],\n",
    "                                min_samples_leaf= grid_rf.best_params_['min_samples_leaf'],\n",
    "                                random_state = 123)\n",
    "\n",
    "#fit\n",
    "rf_tree.fit(X_train_clean, y_train)\n",
    "\n",
    "# Predict\n",
    "predicted_rf_train = rf_tree.predict(X_train_clean)\n",
    "\n",
    "# evaluate\n",
    "print(classification_report(y_train, predicted_rf_train))\n",
    "\n",
    "cm = confusion_matrix(y_train, predicted_rf_train)\n",
    "disp = ConfusionMatrixDisplay(cm, display_labels=[\"0\",\"1\"])\n",
    "disp.plot()\n",
    "plt.title(\"Confusion Matrix\")\n",
    "plt.show()"
   ]
  },
  {
   "cell_type": "code",
   "execution_count": 45,
   "metadata": {},
   "outputs": [
    {
     "name": "stdout",
     "output_type": "stream",
     "text": [
      "              precision    recall  f1-score   support\n",
      "\n",
      "           0       0.69      0.70      0.70       400\n",
      "           1       0.52      0.50      0.51       256\n",
      "\n",
      "    accuracy                           0.62       656\n",
      "   macro avg       0.60      0.60      0.60       656\n",
      "weighted avg       0.62      0.62      0.62       656\n",
      "\n"
     ]
    },
    {
     "data": {
      "image/png": "[encoded data removed]",
      "text/plain": [
       "<Figure size 432x288 with 2 Axes>"
      ]
     },
     "metadata": {
      "needs_background": "light"
     },
     "output_type": "display_data"
    }
   ],
   "source": [
    "# predict test data\n",
    "predicted_rf_test = rf_tree.predict(X_test_clean)\n",
    "\n",
    "# evaluate\n",
    "print(classification_report(y_test, predicted_rf_test))\n",
    "\n",
    "cm = confusion_matrix(y_test, predicted_rf_test)\n",
    "disp = ConfusionMatrixDisplay(cm, display_labels=[\"0\",\"1\"])\n",
    "disp.plot()\n",
    "plt.title(\"Confusion Matrix\")\n",
    "plt.show()\n"
   ]
  }
 ],
 "metadata": {
  "interpreter": {
   "hash": "37eb40c3388cfde35488e2d005b0d69ca91ddeff8a429754d4da636d3f888e5e"
  },
  "kernelspec": {
   "display_name": "Python 3.8.12 ('base')",
   "language": "python",
   "name": "python3"
  },
  "language_info": {
   "codemirror_mode": {
    "name": "ipython",
    "version": 3
   },
   "file_extension": ".py",
   "mimetype": "text/x-python",
   "name": "python",
   "nbconvert_exporter": "python",
   "pygments_lexer": "ipython3",
   "version": "3.8.12"
  },
  "orig_nbformat": 4
 },
 "nbformat": 4,
 "nbformat_minor": 2
}
